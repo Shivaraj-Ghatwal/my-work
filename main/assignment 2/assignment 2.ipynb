{
 "cells": [
  {
   "cell_type": "code",
   "execution_count": 1,
   "id": "3e1d302d",
   "metadata": {},
   "outputs": [],
   "source": [
    "import findspark\n",
    "findspark.init()"
   ]
  },
  {
   "cell_type": "code",
   "execution_count": 2,
   "id": "9173d27c",
   "metadata": {},
   "outputs": [],
   "source": [
    "\n",
    "from pyspark.sql import SparkSession,types\n",
    "\n",
    "spark = SparkSession.builder.master('local').appName('qtn1').getOrCreate()\n",
    "\n",
    "sc=spark.sparkContext"
   ]
  },
  {
   "cell_type": "code",
   "execution_count": 3,
   "id": "ebda0e93",
   "metadata": {},
   "outputs": [],
   "source": [
    "df=spark.read.text('C:/Users/Shivaraj/pyspark work/book1.csv')\n"
   ]
  },
  {
   "cell_type": "code",
   "execution_count": 4,
   "id": "70b32cb1",
   "metadata": {},
   "outputs": [
    {
     "name": "stdout",
     "output_type": "stream",
     "text": [
      "+----------------------+\n",
      "|value                 |\n",
      "+----------------------+\n",
      "|NAME|AGE|DEP          |\n",
      "|Vivek|Chaudhary|32|BSC|\n",
      "|John|Morgan|30|BE     |\n",
      "|Ashwin|Rao|30|BE      |\n",
      "+----------------------+\n",
      "\n"
     ]
    }
   ],
   "source": [
    "df.show(truncate=0)"
   ]
  },
  {
   "cell_type": "code",
   "execution_count": 5,
   "id": "e2d0284a",
   "metadata": {},
   "outputs": [
    {
     "data": {
      "text/plain": [
       "'NAME|AGE|DEP'"
      ]
     },
     "execution_count": 5,
     "metadata": {},
     "output_type": "execute_result"
    }
   ],
   "source": [
    "header=df.first()[0]\n",
    "header"
   ]
  },
  {
   "cell_type": "code",
   "execution_count": null,
   "id": "a5616c58",
   "metadata": {},
   "outputs": [],
   "source": []
  },
  {
   "cell_type": "code",
   "execution_count": 6,
   "id": "401adca9",
   "metadata": {},
   "outputs": [
    {
     "name": "stdout",
     "output_type": "stream",
     "text": [
      "['fname', 'lname', 'age', 'dep']\n"
     ]
    }
   ],
   "source": [
    "schema=['fname','lname','age','dep']\n",
    "print(schema)"
   ]
  },
  {
   "cell_type": "markdown",
   "id": "e0c0ae28",
   "metadata": {},
   "source": [
    "# filter the header, separate the columns and apply the schema"
   ]
  },
  {
   "cell_type": "code",
   "execution_count": 7,
   "id": "fade5a4a",
   "metadata": {},
   "outputs": [
    {
     "name": "stdout",
     "output_type": "stream",
     "text": [
      "+------+---------+---+---+\n",
      "| fname|    lname|age|dep|\n",
      "+------+---------+---+---+\n",
      "| Vivek|Chaudhary| 32|BSC|\n",
      "|  John|   Morgan| 30| BE|\n",
      "|Ashwin|      Rao| 30| BE|\n",
      "+------+---------+---+---+\n",
      "\n"
     ]
    }
   ],
   "source": [
    "\n",
    "\n",
    "df_new=df.filter(df['value']!=header).rdd.map(lambda x:x[0].split('|')).toDF(schema)\n",
    "df_new.show()"
   ]
  },
  {
   "cell_type": "markdown",
   "id": "050cd837",
   "metadata": {},
   "source": [
    "# concat the columns “fname” and “lname” :"
   ]
  },
  {
   "cell_type": "code",
   "execution_count": 8,
   "id": "5966d1c4",
   "metadata": {},
   "outputs": [
    {
     "name": "stdout",
     "output_type": "stream",
     "text": [
      "+------+---------+---+---+---------------+\n",
      "| fname|    lname|age|dep|           Name|\n",
      "+------+---------+---+---+---------------+\n",
      "| Vivek|Chaudhary| 32|BSC|Vivek Chaudhary|\n",
      "|  John|   Morgan| 30| BE|    John Morgan|\n",
      "|Ashwin|      Rao| 30| BE|     Ashwin Rao|\n",
      "+------+---------+---+---+---------------+\n",
      "\n"
     ]
    }
   ],
   "source": [
    "\n",
    "from pyspark.sql.functions import *\n",
    "df1=df_new.withColumn('Name',concat(col('fname'),lit(' '),col('lname')))\n",
    "df1.show()"
   ]
  },
  {
   "cell_type": "markdown",
   "id": "1536dd15",
   "metadata": {},
   "source": [
    "# attaching 2 columns one below the other"
   ]
  },
  {
   "cell_type": "code",
   "execution_count": 9,
   "id": "9c26f48b",
   "metadata": {},
   "outputs": [
    {
     "name": "stdout",
     "output_type": "stream",
     "text": [
      "+---------+\n",
      "|    fname|\n",
      "+---------+\n",
      "|    Vivek|\n",
      "|     John|\n",
      "|   Ashwin|\n",
      "|Chaudhary|\n",
      "|   Morgan|\n",
      "|      Rao|\n",
      "+---------+\n",
      "\n"
     ]
    }
   ],
   "source": [
    "a=df1.select('fname')\n",
    "\n",
    "b=df1.select('lname')\n",
    "\n",
    "c=a.union(b).show()"
   ]
  },
  {
   "cell_type": "code",
   "execution_count": 10,
   "id": "aa9a42f7",
   "metadata": {},
   "outputs": [
    {
     "name": "stdout",
     "output_type": "stream",
     "text": [
      "+---------------+---+---+\n",
      "|           name|age|dep|\n",
      "+---------------+---+---+\n",
      "|Vivek Chaudhary| 32|BSC|\n",
      "|    John Morgan| 30| BE|\n",
      "|     Ashwin Rao| 30| BE|\n",
      "+---------------+---+---+\n",
      "\n"
     ]
    }
   ],
   "source": [
    "df1.drop('fname','lname').select('name','age','dep').show()"
   ]
  },
  {
   "cell_type": "markdown",
   "id": "ffa64ba1",
   "metadata": {},
   "source": [
    "# marge two columns"
   ]
  },
  {
   "cell_type": "code",
   "execution_count": 11,
   "id": "f6ff742e",
   "metadata": {},
   "outputs": [],
   "source": [
    "\n",
    "df2=df_new.select(concat(df_new.fname,lit(\" \"),df_new.lname).alias(\"Fullnames\"),'age','dep')"
   ]
  },
  {
   "cell_type": "code",
   "execution_count": 12,
   "id": "1c62c94a",
   "metadata": {},
   "outputs": [
    {
     "name": "stdout",
     "output_type": "stream",
     "text": [
      "+---------------+---+---+\n",
      "|      Fullnames|age|dep|\n",
      "+---------------+---+---+\n",
      "|Vivek Chaudhary| 32|BSC|\n",
      "|    John Morgan| 30| BE|\n",
      "|     Ashwin Rao| 30| BE|\n",
      "+---------------+---+---+\n",
      "\n"
     ]
    }
   ],
   "source": [
    "df2.show()"
   ]
  },
  {
   "cell_type": "markdown",
   "id": "7191a1d6",
   "metadata": {},
   "source": [
    "# split column "
   ]
  },
  {
   "cell_type": "code",
   "execution_count": 13,
   "id": "daf240d2",
   "metadata": {},
   "outputs": [
    {
     "name": "stdout",
     "output_type": "stream",
     "text": [
      "+---+---+---------+---------+\n",
      "|age|dep|Fristname| lastname|\n",
      "+---+---+---------+---------+\n",
      "| 32|BSC|    Vivek|Chaudhary|\n",
      "| 30| BE|     John|   Morgan|\n",
      "| 30| BE|   Ashwin|      Rao|\n",
      "+---+---+---------+---------+\n",
      "\n"
     ]
    }
   ],
   "source": [
    "df3=df2.withColumn(\"Fristname\",split(col(\"Fullnames\"),\" \").getItem(0)).withColumn(\"lastname\",split(col(\"Fullnames\"),\" \").getItem(1)).drop(\"Fullnames\")\n",
    "df3.show()"
   ]
  },
  {
   "cell_type": "code",
   "execution_count": 14,
   "id": "564c4823",
   "metadata": {},
   "outputs": [
    {
     "name": "stdout",
     "output_type": "stream",
     "text": [
      "+---------------+---+---+\n",
      "|       fullname|age|dep|\n",
      "+---------------+---+---+\n",
      "|Vivek Chaudhary| 32|BSC|\n",
      "|    John Morgan| 30| BE|\n",
      "|     Ashwin Rao| 30| BE|\n",
      "+---------------+---+---+\n",
      "\n"
     ]
    }
   ],
   "source": [
    "df5=df3.select(concat(df3.Fristname,lit(\" \"),df3.lastname).alias(\"fullname\"),\"age\",\"dep\")\n",
    "df5.show()"
   ]
  },
  {
   "cell_type": "markdown",
   "id": "5e43e51d",
   "metadata": {},
   "source": [
    "# selcet multiple columns"
   ]
  },
  {
   "cell_type": "code",
   "execution_count": 15,
   "id": "66011db6",
   "metadata": {},
   "outputs": [
    {
     "name": "stdout",
     "output_type": "stream",
     "text": [
      "+---+---+\n",
      "|age|dep|\n",
      "+---+---+\n",
      "| 32|BSC|\n",
      "| 30| BE|\n",
      "| 30| BE|\n",
      "+---+---+\n",
      "\n"
     ]
    }
   ],
   "source": [
    "df5.select(['age','dep']).show()"
   ]
  },
  {
   "cell_type": "markdown",
   "id": "2094e038",
   "metadata": {},
   "source": [
    "# Renaming colums"
   ]
  },
  {
   "cell_type": "code",
   "execution_count": 16,
   "id": "7f468c25",
   "metadata": {},
   "outputs": [
    {
     "name": "stdout",
     "output_type": "stream",
     "text": [
      "+---------------+---+------+\n",
      "|       fullname|age|Stream|\n",
      "+---------------+---+------+\n",
      "|Vivek Chaudhary| 32|   BSC|\n",
      "|    John Morgan| 30|    BE|\n",
      "|     Ashwin Rao| 30|    BE|\n",
      "+---------------+---+------+\n",
      "\n"
     ]
    }
   ],
   "source": [
    "df6=df5.withColumnRenamed('dep','Stream')\n",
    "df6.show()"
   ]
  },
  {
   "cell_type": "markdown",
   "id": "ea938ecf",
   "metadata": {},
   "source": [
    "# coalesce key"
   ]
  },
  {
   "cell_type": "raw",
   "id": "4852611d",
   "metadata": {},
   "source": [
    "# The COALESCE() function returns the first non-null value in a list."
   ]
  },
  {
   "cell_type": "code",
   "execution_count": 17,
   "id": "c325bedd",
   "metadata": {},
   "outputs": [
    {
     "name": "stdout",
     "output_type": "stream",
     "text": [
      "+-------+---------------+-----------+---------+\n",
      "|   Name|Personal_Mobile|Home_Mobile|office_no|\n",
      "+-------+---------------+-----------+---------+\n",
      "|   Adhi|     9876326754| 9358416345|     null|\n",
      "|  Arjun|           null|       null|442644325|\n",
      "|Prathap|     9876544564|       null|     null|\n",
      "|  Manju|           null|       null|     null|\n",
      "| Ariyan|           null| 8761524533|     null|\n",
      "+-------+---------------+-----------+---------+\n",
      "\n"
     ]
    }
   ],
   "source": [
    "qf=spark.read.csv(\"D:/Shivaraj/learning/dataset-master/dataset-master/mob_num.csv\",header=True,inferSchema=True)\n",
    "qf.show()"
   ]
  },
  {
   "cell_type": "code",
   "execution_count": 18,
   "id": "c9096abc",
   "metadata": {},
   "outputs": [
    {
     "name": "stdout",
     "output_type": "stream",
     "text": [
      "+-------+---------------+-----------+---------+-------------+\n",
      "|   Name|Personal_Mobile|Home_Mobile|office_no|   new_Number|\n",
      "+-------+---------------+-----------+---------+-------------+\n",
      "|   Adhi|     9876326754| 9358416345|     null|   9876326754|\n",
      "|  Arjun|           null|       null|442644325|    442644325|\n",
      "|Prathap|     9876544564|       null|     null|   9876544564|\n",
      "|  Manju|           null|       null|     null|not_available|\n",
      "| Ariyan|           null| 8761524533|     null|   8761524533|\n",
      "+-------+---------------+-----------+---------+-------------+\n",
      "\n"
     ]
    }
   ],
   "source": [
    "# collect all people mobile number if available, if not mention not available\n",
    "\n",
    "output = qf.withColumn(\"new_Number\",coalesce(\"Personal_Mobile\",\"Home_Mobile\",\"office_no\",lit(\"not_available\")))\n",
    "output.show()"
   ]
  },
  {
   "cell_type": "code",
   "execution_count": 19,
   "id": "c6d5ca47",
   "metadata": {},
   "outputs": [
    {
     "name": "stdout",
     "output_type": "stream",
     "text": [
      "+-------+-------------+\n",
      "|   Name|   new_Number|\n",
      "+-------+-------------+\n",
      "|   Adhi|   9876326754|\n",
      "|  Arjun|    442644325|\n",
      "|Prathap|   9876544564|\n",
      "|  Manju|not_available|\n",
      "| Ariyan|   8761524533|\n",
      "+-------+-------------+\n",
      "\n"
     ]
    }
   ],
   "source": [
    "output.select(\"Name\",\"new_Number\").show()"
   ]
  },
  {
   "cell_type": "code",
   "execution_count": 21,
   "id": "e7a381b9",
   "metadata": {},
   "outputs": [
    {
     "data": {
      "text/plain": [
       "1"
      ]
     },
     "execution_count": 21,
     "metadata": {},
     "output_type": "execute_result"
    }
   ],
   "source": [
    "output.rdd.getNumPartitions()"
   ]
  },
  {
   "cell_type": "code",
   "execution_count": 27,
   "id": "1cc78ccc",
   "metadata": {},
   "outputs": [
    {
     "name": "stdout",
     "output_type": "stream",
     "text": [
      "+-------+\n",
      "|   Name|\n",
      "+-------+\n",
      "|  Manju|\n",
      "| Ariyan|\n",
      "|  Arjun|\n",
      "|Prathap|\n",
      "|   Adhi|\n",
      "+-------+\n",
      "\n"
     ]
    }
   ],
   "source": [
    "output.select(\"Name\").distinct().show()"
   ]
  },
  {
   "cell_type": "code",
   "execution_count": 28,
   "id": "084bc5d4",
   "metadata": {},
   "outputs": [
    {
     "data": {
      "text/plain": [
       "5"
      ]
     },
     "execution_count": 28,
     "metadata": {},
     "output_type": "execute_result"
    }
   ],
   "source": [
    "output.count()"
   ]
  },
  {
   "cell_type": "code",
   "execution_count": 41,
   "id": "d38b3a3e",
   "metadata": {},
   "outputs": [
    {
     "data": {
      "text/plain": [
       "3"
      ]
     },
     "execution_count": 41,
     "metadata": {},
     "output_type": "execute_result"
    }
   ],
   "source": [
    "output.rdd.repartition(3).getNumPartitions()"
   ]
  },
  {
   "cell_type": "code",
   "execution_count": null,
   "id": "f5c02bac",
   "metadata": {},
   "outputs": [],
   "source": []
  },
  {
   "cell_type": "code",
   "execution_count": null,
   "id": "06fdbe09",
   "metadata": {},
   "outputs": [],
   "source": []
  },
  {
   "cell_type": "code",
   "execution_count": null,
   "id": "726c13a4",
   "metadata": {},
   "outputs": [],
   "source": []
  },
  {
   "cell_type": "code",
   "execution_count": null,
   "id": "fc4948e9",
   "metadata": {},
   "outputs": [],
   "source": []
  },
  {
   "cell_type": "code",
   "execution_count": null,
   "id": "0fd34516",
   "metadata": {},
   "outputs": [],
   "source": []
  },
  {
   "cell_type": "code",
   "execution_count": null,
   "id": "7081ec2e",
   "metadata": {},
   "outputs": [],
   "source": []
  },
  {
   "cell_type": "code",
   "execution_count": null,
   "id": "61d43fea",
   "metadata": {},
   "outputs": [],
   "source": []
  },
  {
   "cell_type": "code",
   "execution_count": null,
   "id": "18407739",
   "metadata": {},
   "outputs": [],
   "source": []
  },
  {
   "cell_type": "code",
   "execution_count": null,
   "id": "4bf2a68f",
   "metadata": {},
   "outputs": [],
   "source": []
  },
  {
   "cell_type": "code",
   "execution_count": null,
   "id": "fabe2947",
   "metadata": {},
   "outputs": [],
   "source": []
  },
  {
   "cell_type": "code",
   "execution_count": null,
   "id": "6c18b5cd",
   "metadata": {},
   "outputs": [],
   "source": []
  },
  {
   "cell_type": "code",
   "execution_count": null,
   "id": "92b750dd",
   "metadata": {},
   "outputs": [],
   "source": []
  },
  {
   "cell_type": "code",
   "execution_count": null,
   "id": "f08b1d50",
   "metadata": {},
   "outputs": [],
   "source": []
  },
  {
   "cell_type": "code",
   "execution_count": null,
   "id": "cec76107",
   "metadata": {},
   "outputs": [],
   "source": []
  }
 ],
 "metadata": {
  "kernelspec": {
   "display_name": "Python 3 (ipykernel)",
   "language": "python",
   "name": "python3"
  },
  "language_info": {
   "codemirror_mode": {
    "name": "ipython",
    "version": 3
   },
   "file_extension": ".py",
   "mimetype": "text/x-python",
   "name": "python",
   "nbconvert_exporter": "python",
   "pygments_lexer": "ipython3",
   "version": "3.9.12"
  }
 },
 "nbformat": 4,
 "nbformat_minor": 5
}
