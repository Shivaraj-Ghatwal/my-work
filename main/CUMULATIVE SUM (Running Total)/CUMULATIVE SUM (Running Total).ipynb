{
 "cells": [
  {
   "cell_type": "markdown",
   "id": "5f89158d",
   "metadata": {},
   "source": [
    "# CUMULATIVE SUM (Running Total)OF COLUMN AND GROUP IN PYSPARK "
   ]
  },
  {
   "cell_type": "code",
   "execution_count": 2,
   "id": "cdfce6e3",
   "metadata": {},
   "outputs": [],
   "source": [
    "from pyspark.sql.window import Window\n",
    "from pyspark.sql import SparkSession,types\n",
    "spark = SparkSession.builder.appName('practice').getOrCreate()"
   ]
  },
  {
   "cell_type": "code",
   "execution_count": 4,
   "id": "afe8d223",
   "metadata": {},
   "outputs": [
    {
     "name": "stdout",
     "output_type": "stream",
     "text": [
      "+-----------+---------+------+--------------------+----------+--------+-------+--------+----------+\n",
      "| Invoice ID|     City|Gender|        Product line|Unit price|Quantity| Tax 5%|   Total|      Date|\n",
      "+-----------+---------+------+--------------------+----------+--------+-------+--------+----------+\n",
      "|750-67-8428|   Yangon|  null|   Health and beauty|     74.69|    null|26.1415|548.9715|01-05-2019|\n",
      "|226-31-3081|Naypyitaw|Female|Electronic access...|     15.28|       5|   3.82|   80.22|03-08-2019|\n",
      "|631-41-3108|   Yangon|  Male|  Home and lifestyle|     46.33|       7|16.2155|340.5255|03-03-2019|\n",
      "|123-19-1176|   Yangon|  Male|   Health and beauty|     58.22|       8| 23.288| 489.048| 1/27/2019|\n",
      "|373-73-7910|     null|  Male|                null|     86.31|       7|30.2085|634.3785|02-08-2019|\n",
      "|699-14-3026|     null|  Male|                null|     85.39|       7|29.8865|    null| 3/25/2019|\n",
      "|355-53-5943|   Yangon|Female|                null|     68.84|       6| 20.652| 433.692| 2/25/2019|\n",
      "|315-22-5665|Naypyitaw|Female|  Home and lifestyle|     73.56|    null|  36.78|  772.38|      null|\n",
      "|665-32-9167|   Yangon|Female|   Health and beauty|     36.26|    null|  3.626|  76.146|01-10-2019|\n",
      "|692-92-5582|     null|Female|                null|      null|       3|  8.226| 172.746| 2/20/2019|\n",
      "|351-62-0822|     null|Female|                null|     14.48|       4|  2.896|  60.816|02-06-2019|\n",
      "|529-56-3974| Mandalay|  Male|Electronic access...|     25.51|       4|  5.102| 107.142|03-09-2019|\n",
      "|365-64-0515|     null|  null|Electronic access...|     46.95|       5|   null|    null|02-12-2019|\n",
      "|252-56-2699|   Yangon|  Male|  Food and beverages|     43.19|      10| 21.595| 453.495|02-07-2019|\n",
      "|829-34-3910|   Yangon|Female|   Health and beauty|     71.38|      10|  35.69|  749.49| 3/29/2019|\n",
      "|299-46-1805| Mandalay|Female|   Sports and travel|     93.72|       6| 28.116| 590.436| 1/15/2019|\n",
      "|656-95-9349|   Yangon|Female|   Health and beauty|     68.93|       7|24.1255|506.6355|03-11-2019|\n",
      "|765-26-6951|   Yangon|  Male|   Sports and travel|     72.61|       6| 21.783| 457.443|01-01-2019|\n",
      "|329-62-1586|   Yangon|  Male|  Food and beverages|     54.67|       3| 8.2005|172.2105| 1/21/2019|\n",
      "|319-50-3348| Mandalay|Female|  Home and lifestyle|      40.3|       2|   4.03|   84.63|03-11-2019|\n",
      "+-----------+---------+------+--------------------+----------+--------+-------+--------+----------+\n",
      "only showing top 20 rows\n",
      "\n"
     ]
    }
   ],
   "source": [
    "df=spark.read.csv('C:/Users/Shivaraj/pyspark work/supermarket_sales1.csv',header=True)\n",
    "df.show()"
   ]
  },
  {
   "cell_type": "code",
   "execution_count": 6,
   "id": "78261474",
   "metadata": {},
   "outputs": [
    {
     "name": "stdout",
     "output_type": "stream",
     "text": [
      "+-----------+---------+------+----------------------+----------+--------+-------+--------+----------+-------+\n",
      "|Invoice ID |City     |Gender|Product line          |Unit price|Quantity|Tax 5% |Total   |Date      |cumsum |\n",
      "+-----------+---------+------+----------------------+----------+--------+-------+--------+----------+-------+\n",
      "|351-62-0822|null     |Female|null                  |14.48     |4       |2.896  |60.816  |02-06-2019|60.82  |\n",
      "|355-53-5943|Yangon   |Female|null                  |68.84     |6       |20.652 |433.692 |2/25/2019 |494.51 |\n",
      "|373-73-7910|null     |Male  |null                  |86.31     |7       |30.2085|634.3785|02-08-2019|1128.89|\n",
      "|692-92-5582|null     |Female|null                  |null      |3       |8.226  |172.746 |2/20/2019 |1301.63|\n",
      "|699-14-3026|null     |Male  |null                  |85.39     |7       |29.8865|null    |3/25/2019 |1301.63|\n",
      "|114-35-5271|Mandalay |Female|Electronic accessories|57.91     |8       |23.164 |486.444 |02-07-2019|486.44 |\n",
      "|120-06-4233|Naypyitaw|Male  |Electronic accessories|30.61     |6       |9.183  |192.843 |03-12-2019|679.29 |\n",
      "|122-61-9553|Naypyitaw|Female|Electronic accessories|51.32     |9       |23.094 |484.974 |3/14/2019 |1164.26|\n",
      "+-----------+---------+------+----------------------+----------+--------+-------+--------+----------+-------+\n",
      "only showing top 8 rows\n",
      "\n"
     ]
    }
   ],
   "source": [
    "import sys\n",
    "from pyspark.sql.window import Window\n",
    "import pyspark.sql.functions as f\n",
    "from pyspark.sql.functions import *\n",
    "cum_sum = df.withColumn('cumsum', f.sum(df.Total).over(Window.partitionBy('Product line').orderBy('Invoice ID').rowsBetween(-sys.maxsize, 0)))\n",
    "cum_sum.select(\"*\",round(\"cumsum\",2)).drop('cumsum').withColumnRenamed(\"round(cumsum, 2)\",\"cumsum\").show(8,truncate=False)"
   ]
  },
  {
   "cell_type": "code",
   "execution_count": 7,
   "id": "71db8553",
   "metadata": {},
   "outputs": [
    {
     "name": "stdout",
     "output_type": "stream",
     "text": [
      "+-----------+---------+------+----------------------+----------+--------+-------+--------+----------+------------+\n",
      "|Invoice ID |City     |Gender|Product line          |Unit price|Quantity|Tax 5% |Total   |Date      |CumlativeSum|\n",
      "+-----------+---------+------+----------------------+----------+--------+-------+--------+----------+------------+\n",
      "|750-67-8428|Yangon   |null  |Health and beauty     |74.69     |null    |26.1415|548.9715|01-05-2019|548.97      |\n",
      "|226-31-3081|Naypyitaw|Female|Electronic accessories|15.28     |5       |3.82   |80.22   |03-08-2019|629.19      |\n",
      "|631-41-3108|Yangon   |Male  |Home and lifestyle    |46.33     |7       |16.2155|340.5255|03-03-2019|969.72      |\n",
      "|123-19-1176|Yangon   |Male  |Health and beauty     |58.22     |8       |23.288 |489.048 |1/27/2019 |1458.77     |\n",
      "|373-73-7910|null     |Male  |null                  |86.31     |7       |30.2085|634.3785|02-08-2019|2093.14     |\n",
      "|699-14-3026|null     |Male  |null                  |85.39     |7       |29.8865|null    |3/25/2019 |2093.14     |\n",
      "|355-53-5943|Yangon   |Female|null                  |68.84     |6       |20.652 |433.692 |2/25/2019 |2526.84     |\n",
      "|315-22-5665|Naypyitaw|Female|Home and lifestyle    |73.56     |null    |36.78  |772.38  |null      |3299.22     |\n",
      "|665-32-9167|Yangon   |Female|Health and beauty     |36.26     |null    |3.626  |76.146  |01-10-2019|3375.36     |\n",
      "|692-92-5582|null     |Female|null                  |null      |3       |8.226  |172.746 |2/20/2019 |3548.11     |\n",
      "|351-62-0822|null     |Female|null                  |14.48     |4       |2.896  |60.816  |02-06-2019|3608.92     |\n",
      "|529-56-3974|Mandalay |Male  |Electronic accessories|25.51     |4       |5.102  |107.142 |03-09-2019|3716.07     |\n",
      "|365-64-0515|null     |null  |Electronic accessories|46.95     |5       |null   |null    |02-12-2019|3716.07     |\n",
      "|252-56-2699|Yangon   |Male  |Food and beverages    |43.19     |10      |21.595 |453.495 |02-07-2019|4169.56     |\n",
      "|829-34-3910|Yangon   |Female|Health and beauty     |71.38     |10      |35.69  |749.49  |3/29/2019 |4919.05     |\n",
      "|299-46-1805|Mandalay |Female|Sports and travel     |93.72     |6       |28.116 |590.436 |1/15/2019 |5509.49     |\n",
      "|656-95-9349|Yangon   |Female|Health and beauty     |68.93     |7       |24.1255|506.6355|03-11-2019|6016.12     |\n",
      "|765-26-6951|Yangon   |Male  |Sports and travel     |72.61     |6       |21.783 |457.443 |01-01-2019|6473.57     |\n",
      "|329-62-1586|Yangon   |Male  |Food and beverages    |54.67     |3       |8.2005 |172.2105|1/21/2019 |6645.78     |\n",
      "|319-50-3348|Mandalay |Female|Home and lifestyle    |40.3      |2       |4.03   |84.63   |03-11-2019|6730.41     |\n",
      "+-----------+---------+------+----------------------+----------+--------+-------+--------+----------+------------+\n",
      "only showing top 20 rows\n",
      "\n"
     ]
    }
   ],
   "source": [
    "import sys\n",
    "\n",
    "from pyspark.sql.window import Window\n",
    "import pyspark.sql.functions as F\n",
    "cumulative=df.withColumn(\"CumlativeSum\",f.sum(df.Total).over(Window.partitionBy().orderBy().rowsBetween(-sys.maxsize, 0)))\n",
    "cumulative.select(\"*\",round(\"CumlativeSum\",2)).drop('CumlativeSum').withColumnRenamed(\"round(CumlativeSum, 2)\",\"CumlativeSum\").show(truncate=False)"
   ]
  },
  {
   "cell_type": "code",
   "execution_count": 8,
   "id": "4b0a3d7c",
   "metadata": {},
   "outputs": [
    {
     "name": "stdout",
     "output_type": "stream",
     "text": [
      "+-----------+---------+------+--------------------+----------+--------+-------+--------+----------+\n",
      "| Invoice ID|     City|Gender|        Product line|Unit price|Quantity| Tax 5%|   Total|      Date|\n",
      "+-----------+---------+------+--------------------+----------+--------+-------+--------+----------+\n",
      "|750-67-8428|   Yangon|  null|   Health and beauty|     74.69|    null|26.1415|548.9715|01-05-2019|\n",
      "|226-31-3081|Naypyitaw|Female|Electronic access...|     15.28|       5|   3.82|   80.22|03-08-2019|\n",
      "|631-41-3108|   Yangon|  Male|  Home and lifestyle|     46.33|       7|16.2155|340.5255|03-03-2019|\n",
      "|123-19-1176|   Yangon|  Male|   Health and beauty|     58.22|       8| 23.288| 489.048| 1/27/2019|\n",
      "|373-73-7910|     null|  Male|                null|     86.31|       7|30.2085|634.3785|02-08-2019|\n",
      "|699-14-3026|     null|  Male|                null|     85.39|       7|29.8865|    null| 3/25/2019|\n",
      "|355-53-5943|   Yangon|Female|                null|     68.84|       6| 20.652| 433.692| 2/25/2019|\n",
      "|315-22-5665|Naypyitaw|Female|  Home and lifestyle|     73.56|    null|  36.78|  772.38|      null|\n",
      "|665-32-9167|   Yangon|Female|   Health and beauty|     36.26|    null|  3.626|  76.146|01-10-2019|\n",
      "|692-92-5582|     null|Female|                null|      null|       3|  8.226| 172.746| 2/20/2019|\n",
      "|351-62-0822|     null|Female|                null|     14.48|       4|  2.896|  60.816|02-06-2019|\n",
      "|529-56-3974| Mandalay|  Male|Electronic access...|     25.51|       4|  5.102| 107.142|03-09-2019|\n",
      "|365-64-0515|     null|  null|Electronic access...|     46.95|       5|   null|    null|02-12-2019|\n",
      "|252-56-2699|   Yangon|  Male|  Food and beverages|     43.19|      10| 21.595| 453.495|02-07-2019|\n",
      "|829-34-3910|   Yangon|Female|   Health and beauty|     71.38|      10|  35.69|  749.49| 3/29/2019|\n",
      "|299-46-1805| Mandalay|Female|   Sports and travel|     93.72|       6| 28.116| 590.436| 1/15/2019|\n",
      "|656-95-9349|   Yangon|Female|   Health and beauty|     68.93|       7|24.1255|506.6355|03-11-2019|\n",
      "|765-26-6951|   Yangon|  Male|   Sports and travel|     72.61|       6| 21.783| 457.443|01-01-2019|\n",
      "|329-62-1586|   Yangon|  Male|  Food and beverages|     54.67|       3| 8.2005|172.2105| 1/21/2019|\n",
      "|319-50-3348| Mandalay|Female|  Home and lifestyle|      40.3|       2|   4.03|   84.63|03-11-2019|\n",
      "+-----------+---------+------+--------------------+----------+--------+-------+--------+----------+\n",
      "only showing top 20 rows\n",
      "\n"
     ]
    }
   ],
   "source": [
    "df.show()"
   ]
  },
  {
   "cell_type": "code",
   "execution_count": 9,
   "id": "27b829d3",
   "metadata": {},
   "outputs": [
    {
     "name": "stdout",
     "output_type": "stream",
     "text": [
      "+-----------+---------+------+--------------------+----------+--------+-------+----------+------+\n",
      "| Invoice ID|     City|Gender|        Product line|Unit price|Quantity| Tax 5%|      Date| Total|\n",
      "+-----------+---------+------+--------------------+----------+--------+-------+----------+------+\n",
      "|750-67-8428|   Yangon|  null|   Health and beauty|     74.69|    null|26.1415|01-05-2019|548.97|\n",
      "|226-31-3081|Naypyitaw|Female|Electronic access...|     15.28|       5|   3.82|03-08-2019| 80.22|\n",
      "|631-41-3108|   Yangon|  Male|  Home and lifestyle|     46.33|       7|16.2155|03-03-2019|340.53|\n",
      "|123-19-1176|   Yangon|  Male|   Health and beauty|     58.22|       8| 23.288| 1/27/2019|489.05|\n",
      "|373-73-7910|     null|  Male|                null|     86.31|       7|30.2085|02-08-2019|634.38|\n",
      "|699-14-3026|     null|  Male|                null|     85.39|       7|29.8865| 3/25/2019|  null|\n",
      "|355-53-5943|   Yangon|Female|                null|     68.84|       6| 20.652| 2/25/2019|433.69|\n",
      "|315-22-5665|Naypyitaw|Female|  Home and lifestyle|     73.56|    null|  36.78|      null|772.38|\n",
      "|665-32-9167|   Yangon|Female|   Health and beauty|     36.26|    null|  3.626|01-10-2019| 76.15|\n",
      "|692-92-5582|     null|Female|                null|      null|       3|  8.226| 2/20/2019|172.75|\n",
      "|351-62-0822|     null|Female|                null|     14.48|       4|  2.896|02-06-2019| 60.82|\n",
      "|529-56-3974| Mandalay|  Male|Electronic access...|     25.51|       4|  5.102|03-09-2019|107.14|\n",
      "|365-64-0515|     null|  null|Electronic access...|     46.95|       5|   null|02-12-2019|  null|\n",
      "|252-56-2699|   Yangon|  Male|  Food and beverages|     43.19|      10| 21.595|02-07-2019| 453.5|\n",
      "|829-34-3910|   Yangon|Female|   Health and beauty|     71.38|      10|  35.69| 3/29/2019|749.49|\n",
      "|299-46-1805| Mandalay|Female|   Sports and travel|     93.72|       6| 28.116| 1/15/2019|590.44|\n",
      "|656-95-9349|   Yangon|Female|   Health and beauty|     68.93|       7|24.1255|03-11-2019|506.64|\n",
      "|765-26-6951|   Yangon|  Male|   Sports and travel|     72.61|       6| 21.783|01-01-2019|457.44|\n",
      "|329-62-1586|   Yangon|  Male|  Food and beverages|     54.67|       3| 8.2005| 1/21/2019|172.21|\n",
      "|319-50-3348| Mandalay|Female|  Home and lifestyle|      40.3|       2|   4.03|03-11-2019| 84.63|\n",
      "+-----------+---------+------+--------------------+----------+--------+-------+----------+------+\n",
      "only showing top 20 rows\n",
      "\n"
     ]
    }
   ],
   "source": [
    "df.select(\"*\",round(\"Total\",2)).drop(\"Total\").withColumnRenamed(\"round(Total, 2)\",\"Total\").show()\n"
   ]
  },
  {
   "cell_type": "code",
   "execution_count": null,
   "id": "dedc6fba",
   "metadata": {},
   "outputs": [],
   "source": []
  },
  {
   "cell_type": "code",
   "execution_count": null,
   "id": "ea298065",
   "metadata": {},
   "outputs": [],
   "source": []
  },
  {
   "cell_type": "code",
   "execution_count": null,
   "id": "d8f61383",
   "metadata": {},
   "outputs": [],
   "source": []
  },
  {
   "cell_type": "code",
   "execution_count": null,
   "id": "6c9aed85",
   "metadata": {},
   "outputs": [],
   "source": []
  },
  {
   "cell_type": "code",
   "execution_count": null,
   "id": "63086fa7",
   "metadata": {},
   "outputs": [],
   "source": []
  },
  {
   "cell_type": "code",
   "execution_count": null,
   "id": "89c49f72",
   "metadata": {},
   "outputs": [],
   "source": []
  }
 ],
 "metadata": {
  "kernelspec": {
   "display_name": "Python 3 (ipykernel)",
   "language": "python",
   "name": "python3"
  },
  "language_info": {
   "codemirror_mode": {
    "name": "ipython",
    "version": 3
   },
   "file_extension": ".py",
   "mimetype": "text/x-python",
   "name": "python",
   "nbconvert_exporter": "python",
   "pygments_lexer": "ipython3",
   "version": "3.9.12"
  }
 },
 "nbformat": 4,
 "nbformat_minor": 5
}
