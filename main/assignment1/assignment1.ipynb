{
 "cells": [
  {
   "cell_type": "code",
   "execution_count": 1,
   "id": "45b416f1",
   "metadata": {},
   "outputs": [],
   "source": [
    "from pyspark.sql import SparkSession\n",
    "spark=SparkSession.builder.appName(\"test\").getOrCreate()"
   ]
  },
  {
   "cell_type": "markdown",
   "id": "22a86f8e",
   "metadata": {},
   "source": [
    "# reading csv file"
   ]
  },
  {
   "cell_type": "code",
   "execution_count": 2,
   "id": "1b4d6e5f",
   "metadata": {},
   "outputs": [
    {
     "name": "stdout",
     "output_type": "stream",
     "text": [
      "+--------+-------+-----+\n",
      "|NAME    |SUBJECT|MARKS|\n",
      "+--------+-------+-----+\n",
      "|Shivaraj|KAN    |56   |\n",
      "|Shivaraj|ENG    |78   |\n",
      "|Shivaraj|HINDI  |65   |\n",
      "|Shivaraj|MATHS  |75   |\n",
      "|Shivaraj|SCIENCE|66   |\n",
      "|Shivaraj|SOCIAL |88   |\n",
      "|Ajit    |KAN    |43   |\n",
      "|Ajit    |ENG    |45   |\n",
      "|Ajit    |HINDI  |88   |\n",
      "|Ajit    |MATHS  |42   |\n",
      "|Ajit    |SCIENCE|46   |\n",
      "|Ajit    |SOCIAL |78   |\n",
      "|Prahlad |KAN    |77   |\n",
      "|Prahlad |ENG    |67   |\n",
      "|Prahlad |HINDI  |62   |\n",
      "|Prahlad |MATHS  |67   |\n",
      "|Prahlad |SCIENCE|64   |\n",
      "|Prahlad |SOCIAL |57   |\n",
      "|Ratesh  |KAN    |25   |\n",
      "|Ratesh  |ENG    |54   |\n",
      "|Ratesh  |HINDI  |46   |\n",
      "|Ratesh  |MATHS  |22   |\n",
      "|Ratesh  |SCIENCE|22   |\n",
      "|Ratesh  |SOCIAL |77   |\n",
      "|Ansh    |KAN    |57   |\n",
      "|Ansh    |ENG    |77   |\n",
      "|Ansh    |HINDI  |43   |\n",
      "|Ansh    |MATHS  |35   |\n",
      "|Ansh    |SCIENCE|78   |\n",
      "|Ansh    |SOCIAL |43   |\n",
      "|Raju    |KAN    |22   |\n",
      "|Raju    |ENG    |67   |\n",
      "|Raju    |HINDI  |43   |\n",
      "|Raju    |MATHS  |23   |\n",
      "|Raju    |SCIENCE|43   |\n",
      "|Raju    |SOCIAL |34   |\n",
      "+--------+-------+-----+\n",
      "\n"
     ]
    }
   ],
   "source": [
    "df=spark.read.csv(r\"C:\\Users\\Shivaraj\\OneDrive\\Desktop\\my work\\assignment1\\result.csv\",header=True,inferSchema=True)\n",
    "df.show(60,truncate=False)"
   ]
  },
  {
   "cell_type": "markdown",
   "id": "11abced3",
   "metadata": {},
   "source": [
    "# Pivoting the data"
   ]
  },
  {
   "cell_type": "code",
   "execution_count": 3,
   "id": "037a6dff",
   "metadata": {},
   "outputs": [
    {
     "name": "stdout",
     "output_type": "stream",
     "text": [
      "+--------+---+-----+---+-----+-------+------+\n",
      "|    NAME|ENG|HINDI|KAN|MATHS|SCIENCE|SOCIAL|\n",
      "+--------+---+-----+---+-----+-------+------+\n",
      "| Prahlad| 67|   62| 77|   67|     64|    57|\n",
      "|  Ratesh| 54|   46| 25|   22|     22|    77|\n",
      "|    Raju| 67|   43| 22|   23|     43|    34|\n",
      "|Shivaraj| 78|   65| 56|   75|     66|    88|\n",
      "|    Ajit| 45|   88| 43|   42|     46|    78|\n",
      "|    Ansh| 77|   43| 57|   35|     78|    43|\n",
      "+--------+---+-----+---+-----+-------+------+\n",
      "\n"
     ]
    }
   ],
   "source": [
    "df1=df.groupBy(\"NAME\").pivot(\"SUBJECT\").max(\"MARKS\")\n",
    "df1.show()"
   ]
  },
  {
   "cell_type": "markdown",
   "id": "ca2954dd",
   "metadata": {},
   "source": [
    "# assign rank value using ntile(set vale 2 for pass 1 and fail 2)"
   ]
  },
  {
   "cell_type": "code",
   "execution_count": 4,
   "id": "97f454f6",
   "metadata": {},
   "outputs": [
    {
     "name": "stdout",
     "output_type": "stream",
     "text": [
      "+--------+---+-----+---+-----+-------+------+------+\n",
      "|NAME    |ENG|HINDI|KAN|MATHS|SCIENCE|SOCIAL|Result|\n",
      "+--------+---+-----+---+-----+-------+------+------+\n",
      "|Prahlad |67 |62   |77 |67   |64     |57    |true  |\n",
      "|Ratesh  |54 |46   |25 |22   |22     |77    |false |\n",
      "|Raju    |67 |43   |22 |23   |43     |34    |false |\n",
      "|Shivaraj|78 |65   |56 |75   |66     |88    |true  |\n",
      "|Ajit    |45 |88   |43 |42   |46     |78    |true  |\n",
      "|Ansh    |77 |43   |57 |35   |78     |43    |true  |\n",
      "+--------+---+-----+---+-----+-------+------+------+\n",
      "\n"
     ]
    }
   ],
   "source": [
    "from pyspark.sql.window import Window\n",
    "windowSpec=Window.partitionBy(\"NAME\").orderBy(\"ENG\")\n",
    "from pyspark.sql.functions import ntile\n",
    "\n",
    "df2= df1.withColumn(\"pass_fail\",ntile(2).over(windowSpec)). \\\n",
    "    select(\"NAME\",\"ENG\",\"HINDI\",\"KAN\",\"MATHS\",\"SCIENCE\",\"SOCIAL\", \\\n",
    "    (df1.ENG>=35) & (df1.HINDI>=35) & (df1.KAN>=35) & (df1.MATHS>=35) & (df1.SCIENCE>=35) & (df1.SOCIAL>=35)). \\\n",
    "    withColumnRenamed(\"((((((ENG >= 35) AND (HINDI >= 35)) AND (KAN >= 35)) AND (MATHS >= 35)) AND (SCIENCE >= 35)) AND (SOCIAL >= 35))\",\"Result\")\n",
    "\n",
    "df2.show(truncate=False)"
   ]
  },
  {
   "cell_type": "markdown",
   "id": "0d641769",
   "metadata": {},
   "source": [
    "# counting total "
   ]
  },
  {
   "cell_type": "code",
   "execution_count": 5,
   "id": "9e37afba",
   "metadata": {},
   "outputs": [
    {
     "name": "stdout",
     "output_type": "stream",
     "text": [
      "+--------+---+-----+---+-----+-------+------+------+-----+\n",
      "|    NAME|ENG|HINDI|KAN|MATHS|SCIENCE|SOCIAL|Result|Total|\n",
      "+--------+---+-----+---+-----+-------+------+------+-----+\n",
      "| Prahlad| 67|   62| 77|   67|     64|    57|  true|  394|\n",
      "|  Ratesh| 54|   46| 25|   22|     22|    77| false|  246|\n",
      "|    Raju| 67|   43| 22|   23|     43|    34| false|  232|\n",
      "|Shivaraj| 78|   65| 56|   75|     66|    88|  true|  428|\n",
      "|    Ajit| 45|   88| 43|   42|     46|    78|  true|  342|\n",
      "|    Ansh| 77|   43| 57|   35|     78|    43|  true|  333|\n",
      "+--------+---+-----+---+-----+-------+------+------+-----+\n",
      "\n"
     ]
    }
   ],
   "source": [
    "df3=df2.withColumn(\"Total\",df2[\"ENG\"]+df2[\"HINDI\"]+df2[\"KAN\"]+df2[\"MATHS\"]+df2[\"SCIENCE\"]+df2[\"SOCIAL\"])\n",
    "df3.show()"
   ]
  },
  {
   "cell_type": "code",
   "execution_count": 6,
   "id": "ccd43e16",
   "metadata": {},
   "outputs": [
    {
     "name": "stdout",
     "output_type": "stream",
     "text": [
      "+--------+---+-----+---+-----+-------+------+-----+------------+\n",
      "|    NAME|ENG|HINDI|KAN|MATHS|SCIENCE|SOCIAL|Total|Final_Result|\n",
      "+--------+---+-----+---+-----+-------+------+-----+------------+\n",
      "| Prahlad| 67|   62| 77|   67|     64|    57|  394|        Pass|\n",
      "|  Ratesh| 54|   46| 25|   22|     22|    77|  246|        Fail|\n",
      "|    Raju| 67|   43| 22|   23|     43|    34|  232|        Fail|\n",
      "|Shivaraj| 78|   65| 56|   75|     66|    88|  428|        Pass|\n",
      "|    Ajit| 45|   88| 43|   42|     46|    78|  342|        Pass|\n",
      "|    Ansh| 77|   43| 57|   35|     78|    43|  333|        Pass|\n",
      "+--------+---+-----+---+-----+-------+------+-----+------------+\n",
      "\n"
     ]
    }
   ],
   "source": [
    "from pyspark.sql.functions import *\n",
    "\n",
    "df4=df3.withColumn(\"Final_Result\",regexp_replace(\"Result\",\"true\",\"Pass\")).na.replace(\"false\",'Fail').drop(\"Result\")\n",
    "df4.show()"
   ]
  },
  {
   "cell_type": "markdown",
   "id": "9f472302",
   "metadata": {},
   "source": [
    "# calculate percentage"
   ]
  },
  {
   "cell_type": "code",
   "execution_count": 7,
   "id": "a2c65b51",
   "metadata": {},
   "outputs": [],
   "source": [
    "df5=df4.withColumn('Percent',(col('Total')/600)*100) \n"
   ]
  },
  {
   "cell_type": "code",
   "execution_count": 13,
   "id": "f88c04a5",
   "metadata": {},
   "outputs": [
    {
     "name": "stdout",
     "output_type": "stream",
     "text": [
      "+--------+---+-----+---+-----+-------+------+-----+------------+------------------+\n",
      "|    NAME|ENG|HINDI|KAN|MATHS|SCIENCE|SOCIAL|Total|Final_Result|           Percent|\n",
      "+--------+---+-----+---+-----+-------+------+-----+------------+------------------+\n",
      "| Prahlad| 67|   62| 77|   67|     64|    57|  394|        Pass| 65.66666666666666|\n",
      "|  Ratesh| 54|   46| 25|   22|     22|    77|  246|        Fail|              41.0|\n",
      "|    Raju| 67|   43| 22|   23|     43|    34|  232|        Fail|38.666666666666664|\n",
      "|Shivaraj| 78|   65| 56|   75|     66|    88|  428|        Pass| 71.33333333333334|\n",
      "|    Ajit| 45|   88| 43|   42|     46|    78|  342|        Pass| 56.99999999999999|\n",
      "|    Ansh| 77|   43| 57|   35|     78|    43|  333|        Pass| 55.50000000000001|\n",
      "+--------+---+-----+---+-----+-------+------+-----+------------+------------------+\n",
      "\n"
     ]
    }
   ],
   "source": [
    "df5.show()"
   ]
  },
  {
   "cell_type": "markdown",
   "id": "882c9dfc",
   "metadata": {},
   "source": [
    "# listing students result one below the other "
   ]
  },
  {
   "cell_type": "code",
   "execution_count": 9,
   "id": "ccc3a607",
   "metadata": {},
   "outputs": [
    {
     "name": "stdout",
     "output_type": "stream",
     "text": [
      "-RECORD 0----------------\n",
      " NAME         | Prahlad  \n",
      " ENG          | 67       \n",
      " HINDI        | 62       \n",
      " KAN          | 77       \n",
      " MATHS        | 67       \n",
      " SCIENCE      | 64       \n",
      " SOCIAL       | 57       \n",
      " Total        | 394      \n",
      " Final_Result | Pass     \n",
      " Percent      | 65.67    \n",
      "-RECORD 1----------------\n",
      " NAME         | Ratesh   \n",
      " ENG          | 54       \n",
      " HINDI        | 46       \n",
      " KAN          | 25       \n",
      " MATHS        | 22       \n",
      " SCIENCE      | 22       \n",
      " SOCIAL       | 77       \n",
      " Total        | 246      \n",
      " Final_Result | Fail     \n",
      " Percent      | 41.0     \n",
      "-RECORD 2----------------\n",
      " NAME         | Raju     \n",
      " ENG          | 67       \n",
      " HINDI        | 43       \n",
      " KAN          | 22       \n",
      " MATHS        | 23       \n",
      " SCIENCE      | 43       \n",
      " SOCIAL       | 34       \n",
      " Total        | 232      \n",
      " Final_Result | Fail     \n",
      " Percent      | 38.67    \n",
      "-RECORD 3----------------\n",
      " NAME         | Shivaraj \n",
      " ENG          | 78       \n",
      " HINDI        | 65       \n",
      " KAN          | 56       \n",
      " MATHS        | 75       \n",
      " SCIENCE      | 66       \n",
      " SOCIAL       | 88       \n",
      " Total        | 428      \n",
      " Final_Result | Pass     \n",
      " Percent      | 71.33    \n",
      "-RECORD 4----------------\n",
      " NAME         | Ajit     \n",
      " ENG          | 45       \n",
      " HINDI        | 88       \n",
      " KAN          | 43       \n",
      " MATHS        | 42       \n",
      " SCIENCE      | 46       \n",
      " SOCIAL       | 78       \n",
      " Total        | 342      \n",
      " Final_Result | Pass     \n",
      " Percent      | 57.0     \n",
      "-RECORD 5----------------\n",
      " NAME         | Ansh     \n",
      " ENG          | 77       \n",
      " HINDI        | 43       \n",
      " KAN          | 57       \n",
      " MATHS        | 35       \n",
      " SCIENCE      | 78       \n",
      " SOCIAL       | 43       \n",
      " Total        | 333      \n",
      " Final_Result | Pass     \n",
      " Percent      | 55.5     \n",
      "\n"
     ]
    }
   ],
   "source": [
    "df5.select(\"*\",round(\"Percent\",2)).drop('Percent').withColumnRenamed(\"round(Percent, 2)\",\"Percent\").show(truncate=False,vertical=True )"
   ]
  },
  {
   "cell_type": "code",
   "execution_count": 10,
   "id": "3ffd4e32",
   "metadata": {},
   "outputs": [
    {
     "data": {
      "text/plain": [
       "['NAME',\n",
       " 'ENG',\n",
       " 'HINDI',\n",
       " 'KAN',\n",
       " 'MATHS',\n",
       " 'SCIENCE',\n",
       " 'SOCIAL',\n",
       " 'Total',\n",
       " 'Final_Result',\n",
       " 'Percent']"
      ]
     },
     "execution_count": 10,
     "metadata": {},
     "output_type": "execute_result"
    }
   ],
   "source": [
    "df5.columns"
   ]
  },
  {
   "cell_type": "markdown",
   "id": "1a008ca5",
   "metadata": {},
   "source": [
    "# Class Toper Name"
   ]
  },
  {
   "cell_type": "code",
   "execution_count": 11,
   "id": "f6af08bf",
   "metadata": {},
   "outputs": [
    {
     "name": "stdout",
     "output_type": "stream",
     "text": [
      "+-------+--------+---+-----+---+-----+-------+------+-----+------------+-----------------+\n",
      "|summary|    NAME|ENG|HINDI|KAN|MATHS|SCIENCE|SOCIAL|Total|Final_Result|          Percent|\n",
      "+-------+--------+---+-----+---+-----+-------+------+-----+------------+-----------------+\n",
      "|    max|Shivaraj| 78|   88| 77|   75|     78|    88|  428|        Pass|71.33333333333334|\n",
      "+-------+--------+---+-----+---+-----+-------+------+-----+------------+-----------------+\n",
      "\n"
     ]
    }
   ],
   "source": [
    "df5.summary(\"max\").show()"
   ]
  },
  {
   "cell_type": "markdown",
   "id": "a0d6d0a1",
   "metadata": {},
   "source": [
    "# Total student names "
   ]
  },
  {
   "cell_type": "code",
   "execution_count": 14,
   "id": "d2ab53bb",
   "metadata": {},
   "outputs": [
    {
     "name": "stdout",
     "output_type": "stream",
     "text": [
      "+--------+\n",
      "|count(1)|\n",
      "+--------+\n",
      "|       6|\n",
      "+--------+\n",
      "\n"
     ]
    }
   ],
   "source": [
    "df5.createOrReplaceTempView('my_temp')\n",
    "spark.sql(\"select count(*) from my_temp\").show()"
   ]
  },
  {
   "cell_type": "code",
   "execution_count": null,
   "id": "054dd991",
   "metadata": {},
   "outputs": [],
   "source": []
  },
  {
   "cell_type": "code",
   "execution_count": null,
   "id": "e27920dd",
   "metadata": {},
   "outputs": [],
   "source": []
  },
  {
   "cell_type": "code",
   "execution_count": null,
   "id": "2dc1ec1c",
   "metadata": {},
   "outputs": [],
   "source": []
  },
  {
   "cell_type": "code",
   "execution_count": null,
   "id": "93b1ddb9",
   "metadata": {},
   "outputs": [],
   "source": []
  }
 ],
 "metadata": {
  "kernelspec": {
   "display_name": "Python 3 (ipykernel)",
   "language": "python",
   "name": "python3"
  },
  "language_info": {
   "codemirror_mode": {
    "name": "ipython",
    "version": 3
   },
   "file_extension": ".py",
   "mimetype": "text/x-python",
   "name": "python",
   "nbconvert_exporter": "python",
   "pygments_lexer": "ipython3",
   "version": "3.9.12"
  }
 },
 "nbformat": 4,
 "nbformat_minor": 5
}
