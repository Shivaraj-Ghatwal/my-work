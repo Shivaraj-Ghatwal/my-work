{
 "cells": [
  {
   "cell_type": "raw",
   "id": "e5e28ad3",
   "metadata": {},
   "source": []
  },
  {
   "cell_type": "code",
   "execution_count": 1,
   "id": "db4d8e5a",
   "metadata": {},
   "outputs": [],
   "source": [
    "from pyspark.sql.window import Window\n",
    "from pyspark.sql.functions import row_number\n",
    "from pyspark.sql import SparkSession,types\n",
    "spark = SparkSession.builder.appName('practice').getOrCreate()"
   ]
  },
  {
   "cell_type": "code",
   "execution_count": 2,
   "id": "e16a0678",
   "metadata": {},
   "outputs": [],
   "source": [
    "df=spark.read.csv('C:/Users/Shivaraj/pyspark work/supermarket_sales1.csv',header=True)"
   ]
  },
  {
   "cell_type": "code",
   "execution_count": 3,
   "id": "ed71224d",
   "metadata": {},
   "outputs": [
    {
     "name": "stdout",
     "output_type": "stream",
     "text": [
      "+-----------+---------+------+--------------------+----------+--------+-------+--------+----------+\n",
      "| Invoice ID|     City|Gender|        Product line|Unit price|Quantity| Tax 5%|   Total|      Date|\n",
      "+-----------+---------+------+--------------------+----------+--------+-------+--------+----------+\n",
      "|750-67-8428|   Yangon|  null|   Health and beauty|     74.69|    null|26.1415|548.9715|01-05-2019|\n",
      "|226-31-3081|Naypyitaw|Female|Electronic access...|     15.28|       5|   3.82|   80.22|03-08-2019|\n",
      "|631-41-3108|   Yangon|  Male|  Home and lifestyle|     46.33|       7|16.2155|340.5255|03-03-2019|\n",
      "|123-19-1176|   Yangon|  Male|   Health and beauty|     58.22|       8| 23.288| 489.048| 1/27/2019|\n",
      "|373-73-7910|     null|  Male|                null|     86.31|       7|30.2085|634.3785|02-08-2019|\n",
      "|699-14-3026|     null|  Male|                null|     85.39|       7|29.8865|    null| 3/25/2019|\n",
      "|355-53-5943|   Yangon|Female|                null|     68.84|       6| 20.652| 433.692| 2/25/2019|\n",
      "|315-22-5665|Naypyitaw|Female|  Home and lifestyle|     73.56|    null|  36.78|  772.38|      null|\n",
      "|665-32-9167|   Yangon|Female|   Health and beauty|     36.26|    null|  3.626|  76.146|01-10-2019|\n",
      "|692-92-5582|     null|Female|                null|      null|       3|  8.226| 172.746| 2/20/2019|\n",
      "|351-62-0822|     null|Female|                null|     14.48|       4|  2.896|  60.816|02-06-2019|\n",
      "|529-56-3974| Mandalay|  Male|Electronic access...|     25.51|       4|  5.102| 107.142|03-09-2019|\n",
      "|365-64-0515|     null|  null|Electronic access...|     46.95|       5|   null|    null|02-12-2019|\n",
      "|252-56-2699|   Yangon|  Male|  Food and beverages|     43.19|      10| 21.595| 453.495|02-07-2019|\n",
      "|829-34-3910|   Yangon|Female|   Health and beauty|     71.38|      10|  35.69|  749.49| 3/29/2019|\n",
      "|299-46-1805| Mandalay|Female|   Sports and travel|     93.72|       6| 28.116| 590.436| 1/15/2019|\n",
      "|656-95-9349|   Yangon|Female|   Health and beauty|     68.93|       7|24.1255|506.6355|03-11-2019|\n",
      "|765-26-6951|   Yangon|  Male|   Sports and travel|     72.61|       6| 21.783| 457.443|01-01-2019|\n",
      "|329-62-1586|   Yangon|  Male|  Food and beverages|     54.67|       3| 8.2005|172.2105| 1/21/2019|\n",
      "|319-50-3348| Mandalay|Female|  Home and lifestyle|      40.3|       2|   4.03|   84.63|03-11-2019|\n",
      "+-----------+---------+------+--------------------+----------+--------+-------+--------+----------+\n",
      "only showing top 20 rows\n",
      "\n"
     ]
    }
   ],
   "source": [
    "df.show()"
   ]
  },
  {
   "cell_type": "raw",
   "id": "135d5921",
   "metadata": {},
   "source": [
    "# row_number Window Function\n",
    "\n",
    "row_number() window function is used to give the sequential row number starting from 1 to the result of each window partition."
   ]
  },
  {
   "cell_type": "code",
   "execution_count": 4,
   "id": "cf42c36f",
   "metadata": {},
   "outputs": [
    {
     "name": "stdout",
     "output_type": "stream",
     "text": [
      "+-----------+--------+------+----------------------+----------+--------+-------+--------+----------+----------+\n",
      "|Invoice ID |City    |Gender|Product line          |Unit price|Quantity|Tax 5% |Total   |Date      |row_number|\n",
      "+-----------+--------+------+----------------------+----------+--------+-------+--------+----------+----------+\n",
      "|699-14-3026|null    |Male  |null                  |85.39     |7       |29.8865|null    |3/25/2019 |1         |\n",
      "|365-64-0515|null    |null  |Electronic accessories|46.95     |5       |null   |null    |02-12-2019|2         |\n",
      "|692-92-5582|null    |Female|null                  |null      |3       |8.226  |172.746 |2/20/2019 |3         |\n",
      "|351-62-0822|null    |Female|null                  |14.48     |4       |2.896  |60.816  |02-06-2019|4         |\n",
      "|373-73-7910|null    |Male  |null                  |86.31     |7       |30.2085|634.3785|02-08-2019|5         |\n",
      "|268-03-6164|Mandalay|Male  |Health and beauty     |96.11     |1       |4.8055 |100.9155|1/25/2019 |1         |\n",
      "|761-49-0439|Mandalay|Female|Electronic accessories|12.1      |8       |4.84   |101.64  |1/19/2019 |2         |\n",
      "|176-64-7711|Mandalay|Male  |Food and beverages    |32.32     |3       |4.848  |101.808 |3/27/2019 |3         |\n",
      "|744-16-7898|Mandalay|Female|Home and lifestyle    |97.37     |10      |48.685 |1022.385|1/15/2019 |4         |\n",
      "|303-96-2227|Mandalay|Female|Home and lifestyle    |97.38     |10      |48.69  |1022.49 |03-02-2019|5         |\n",
      "|401-18-8016|Mandalay|Female|Sports and travel     |98.13     |1       |4.9065 |103.0365|1/21/2019 |6         |\n",
      "|241-96-5076|Mandalay|Female|Home and lifestyle    |49.1      |2       |4.91   |103.11  |01-08-2019|7         |\n",
      "|181-82-6255|Mandalay|Female|Home and lifestyle    |16.37     |6       |4.911  |103.131 |02-08-2019|8         |\n",
      "|883-69-1285|Mandalay|Male  |Fashion accessories   |49.92     |2       |4.992  |104.832 |03-06-2019|9         |\n",
      "|152-03-4217|Mandalay|Female|Home and lifestyle    |11.28     |9       |5.076  |106.596 |3/17/2019 |10        |\n",
      "|529-56-3974|Mandalay|Male  |Electronic accessories|25.51     |4       |5.102  |107.142 |03-09-2019|11        |\n",
      "|641-43-2399|Mandalay|Male  |Home and lifestyle    |25.55     |4       |5.11   |107.31  |1/26/2019 |12        |\n",
      "|821-14-9046|Mandalay|Female|Fashion accessories   |17.48     |6       |5.244  |110.124 |1/18/2019 |13        |\n",
      "|378-24-2715|Mandalay|Male  |Home and lifestyle    |53.44     |2       |5.344  |112.224 |1/20/2019 |14        |\n",
      "|291-32-1427|Mandalay|Male  |Fashion accessories   |21.94     |5       |5.485  |115.185 |03-05-2019|15        |\n",
      "+-----------+--------+------+----------------------+----------+--------+-------+--------+----------+----------+\n",
      "only showing top 20 rows\n",
      "\n"
     ]
    }
   ],
   "source": [
    "# row_number\n",
    "\n",
    "from pyspark.sql.window import Window\n",
    "from pyspark.sql.functions import *\n",
    "windowSpec=Window.partitionBy(\"City\").orderBy(\"Total\")\n",
    "\n",
    "df.withColumn(\"row_number\",row_number().over(windowSpec)).show(truncate=False)"
   ]
  },
  {
   "cell_type": "markdown",
   "id": "239d7bc6",
   "metadata": {},
   "source": [
    "# rank Window Function"
   ]
  },
  {
   "cell_type": "raw",
   "id": "9bbb5b3c",
   "metadata": {},
   "source": [
    "rank() window function is used to provide a rank to the result within a window partition.\n",
    "This function leaves gaps in rank when there are ties."
   ]
  },
  {
   "cell_type": "code",
   "execution_count": 5,
   "id": "f04d4ca9",
   "metadata": {},
   "outputs": [
    {
     "name": "stdout",
     "output_type": "stream",
     "text": [
      "+-----------+--------+------+--------------------+----------+--------+-------+--------+----------+----+\n",
      "| Invoice ID|    City|Gender|        Product line|Unit price|Quantity| Tax 5%|   Total|      Date|rank|\n",
      "+-----------+--------+------+--------------------+----------+--------+-------+--------+----------+----+\n",
      "|699-14-3026|    null|  Male|                null|     85.39|       7|29.8865|    null| 3/25/2019|   1|\n",
      "|365-64-0515|    null|  null|Electronic access...|     46.95|       5|   null|    null|02-12-2019|   1|\n",
      "|692-92-5582|    null|Female|                null|      null|       3|  8.226| 172.746| 2/20/2019|   3|\n",
      "|351-62-0822|    null|Female|                null|     14.48|       4|  2.896|  60.816|02-06-2019|   4|\n",
      "|373-73-7910|    null|  Male|                null|     86.31|       7|30.2085|634.3785|02-08-2019|   5|\n",
      "|268-03-6164|Mandalay|  Male|   Health and beauty|     96.11|       1| 4.8055|100.9155| 1/25/2019|   1|\n",
      "|761-49-0439|Mandalay|Female|Electronic access...|      12.1|       8|   4.84|  101.64| 1/19/2019|   2|\n",
      "|176-64-7711|Mandalay|  Male|  Food and beverages|     32.32|       3|  4.848| 101.808| 3/27/2019|   3|\n",
      "|744-16-7898|Mandalay|Female|  Home and lifestyle|     97.37|      10| 48.685|1022.385| 1/15/2019|   4|\n",
      "|303-96-2227|Mandalay|Female|  Home and lifestyle|     97.38|      10|  48.69| 1022.49|03-02-2019|   5|\n",
      "|401-18-8016|Mandalay|Female|   Sports and travel|     98.13|       1| 4.9065|103.0365| 1/21/2019|   6|\n",
      "|241-96-5076|Mandalay|Female|  Home and lifestyle|      49.1|       2|   4.91|  103.11|01-08-2019|   7|\n",
      "|181-82-6255|Mandalay|Female|  Home and lifestyle|     16.37|       6|  4.911| 103.131|02-08-2019|   8|\n",
      "|883-69-1285|Mandalay|  Male| Fashion accessories|     49.92|       2|  4.992| 104.832|03-06-2019|   9|\n",
      "|152-03-4217|Mandalay|Female|  Home and lifestyle|     11.28|       9|  5.076| 106.596| 3/17/2019|  10|\n",
      "|529-56-3974|Mandalay|  Male|Electronic access...|     25.51|       4|  5.102| 107.142|03-09-2019|  11|\n",
      "|641-43-2399|Mandalay|  Male|  Home and lifestyle|     25.55|       4|   5.11|  107.31| 1/26/2019|  12|\n",
      "|821-14-9046|Mandalay|Female| Fashion accessories|     17.48|       6|  5.244| 110.124| 1/18/2019|  13|\n",
      "|378-24-2715|Mandalay|  Male|  Home and lifestyle|     53.44|       2|  5.344| 112.224| 1/20/2019|  14|\n",
      "|291-32-1427|Mandalay|  Male| Fashion accessories|     21.94|       5|  5.485| 115.185|03-05-2019|  15|\n",
      "+-----------+--------+------+--------------------+----------+--------+-------+--------+----------+----+\n",
      "only showing top 20 rows\n",
      "\n"
     ]
    }
   ],
   "source": [
    "df.withColumn(\"rank\",rank().over(windowSpec)).show()"
   ]
  },
  {
   "cell_type": "markdown",
   "id": "a2cc3aff",
   "metadata": {},
   "source": [
    "# dense_rank Window Function\n"
   ]
  },
  {
   "cell_type": "raw",
   "id": "c4fac361",
   "metadata": {},
   "source": [
    "dense_rank() window function is used to get the result with rank of rows within a window partition without any gaps. \n",
    "This is similar to rank() function difference being rank function leaves gaps in rank when there are ties."
   ]
  },
  {
   "cell_type": "code",
   "execution_count": 6,
   "id": "ade277ad",
   "metadata": {},
   "outputs": [
    {
     "name": "stdout",
     "output_type": "stream",
     "text": [
      "+-----------+--------+------+--------------------+----------+--------+-------+--------+----------+----------+\n",
      "| Invoice ID|    City|Gender|        Product line|Unit price|Quantity| Tax 5%|   Total|      Date|dense_rank|\n",
      "+-----------+--------+------+--------------------+----------+--------+-------+--------+----------+----------+\n",
      "|699-14-3026|    null|  Male|                null|     85.39|       7|29.8865|    null| 3/25/2019|         1|\n",
      "|365-64-0515|    null|  null|Electronic access...|     46.95|       5|   null|    null|02-12-2019|         1|\n",
      "|692-92-5582|    null|Female|                null|      null|       3|  8.226| 172.746| 2/20/2019|         2|\n",
      "|351-62-0822|    null|Female|                null|     14.48|       4|  2.896|  60.816|02-06-2019|         3|\n",
      "|373-73-7910|    null|  Male|                null|     86.31|       7|30.2085|634.3785|02-08-2019|         4|\n",
      "|268-03-6164|Mandalay|  Male|   Health and beauty|     96.11|       1| 4.8055|100.9155| 1/25/2019|         1|\n",
      "|761-49-0439|Mandalay|Female|Electronic access...|      12.1|       8|   4.84|  101.64| 1/19/2019|         2|\n",
      "|176-64-7711|Mandalay|  Male|  Food and beverages|     32.32|       3|  4.848| 101.808| 3/27/2019|         3|\n",
      "|744-16-7898|Mandalay|Female|  Home and lifestyle|     97.37|      10| 48.685|1022.385| 1/15/2019|         4|\n",
      "|303-96-2227|Mandalay|Female|  Home and lifestyle|     97.38|      10|  48.69| 1022.49|03-02-2019|         5|\n",
      "|401-18-8016|Mandalay|Female|   Sports and travel|     98.13|       1| 4.9065|103.0365| 1/21/2019|         6|\n",
      "|241-96-5076|Mandalay|Female|  Home and lifestyle|      49.1|       2|   4.91|  103.11|01-08-2019|         7|\n",
      "|181-82-6255|Mandalay|Female|  Home and lifestyle|     16.37|       6|  4.911| 103.131|02-08-2019|         8|\n",
      "|883-69-1285|Mandalay|  Male| Fashion accessories|     49.92|       2|  4.992| 104.832|03-06-2019|         9|\n",
      "|152-03-4217|Mandalay|Female|  Home and lifestyle|     11.28|       9|  5.076| 106.596| 3/17/2019|        10|\n",
      "|529-56-3974|Mandalay|  Male|Electronic access...|     25.51|       4|  5.102| 107.142|03-09-2019|        11|\n",
      "|641-43-2399|Mandalay|  Male|  Home and lifestyle|     25.55|       4|   5.11|  107.31| 1/26/2019|        12|\n",
      "|821-14-9046|Mandalay|Female| Fashion accessories|     17.48|       6|  5.244| 110.124| 1/18/2019|        13|\n",
      "|378-24-2715|Mandalay|  Male|  Home and lifestyle|     53.44|       2|  5.344| 112.224| 1/20/2019|        14|\n",
      "|291-32-1427|Mandalay|  Male| Fashion accessories|     21.94|       5|  5.485| 115.185|03-05-2019|        15|\n",
      "+-----------+--------+------+--------------------+----------+--------+-------+--------+----------+----------+\n",
      "only showing top 20 rows\n",
      "\n"
     ]
    }
   ],
   "source": [
    "\"\"\"dens_rank\"\"\"\n",
    "from pyspark.sql.functions import dense_rank\n",
    "df.withColumn(\"dense_rank\",dense_rank().over(windowSpec)).show()"
   ]
  },
  {
   "cell_type": "markdown",
   "id": "33e9e58f",
   "metadata": {},
   "source": [
    "# percent_rank Window Function"
   ]
  },
  {
   "cell_type": "code",
   "execution_count": 7,
   "id": "25dbbc5d",
   "metadata": {},
   "outputs": [
    {
     "name": "stdout",
     "output_type": "stream",
     "text": [
      "+-----------+--------+------+--------------------+----------+--------+-------+--------+----------+--------------------+\n",
      "| Invoice ID|    City|Gender|        Product line|Unit price|Quantity| Tax 5%|   Total|      Date|        percent_rank|\n",
      "+-----------+--------+------+--------------------+----------+--------+-------+--------+----------+--------------------+\n",
      "|699-14-3026|    null|  Male|                null|     85.39|       7|29.8865|    null| 3/25/2019|                 0.0|\n",
      "|365-64-0515|    null|  null|Electronic access...|     46.95|       5|   null|    null|02-12-2019|                 0.0|\n",
      "|692-92-5582|    null|Female|                null|      null|       3|  8.226| 172.746| 2/20/2019|                 0.5|\n",
      "|351-62-0822|    null|Female|                null|     14.48|       4|  2.896|  60.816|02-06-2019|                0.75|\n",
      "|373-73-7910|    null|  Male|                null|     86.31|       7|30.2085|634.3785|02-08-2019|                 1.0|\n",
      "|268-03-6164|Mandalay|  Male|   Health and beauty|     96.11|       1| 4.8055|100.9155| 1/25/2019|                 0.0|\n",
      "|761-49-0439|Mandalay|Female|Electronic access...|      12.1|       8|   4.84|  101.64| 1/19/2019| 0.00303951367781155|\n",
      "|176-64-7711|Mandalay|  Male|  Food and beverages|     32.32|       3|  4.848| 101.808| 3/27/2019|  0.0060790273556231|\n",
      "|744-16-7898|Mandalay|Female|  Home and lifestyle|     97.37|      10| 48.685|1022.385| 1/15/2019| 0.00911854103343465|\n",
      "|303-96-2227|Mandalay|Female|  Home and lifestyle|     97.38|      10|  48.69| 1022.49|03-02-2019|  0.0121580547112462|\n",
      "|401-18-8016|Mandalay|Female|   Sports and travel|     98.13|       1| 4.9065|103.0365| 1/21/2019|0.015197568389057751|\n",
      "|241-96-5076|Mandalay|Female|  Home and lifestyle|      49.1|       2|   4.91|  103.11|01-08-2019|  0.0182370820668693|\n",
      "|181-82-6255|Mandalay|Female|  Home and lifestyle|     16.37|       6|  4.911| 103.131|02-08-2019| 0.02127659574468085|\n",
      "|883-69-1285|Mandalay|  Male| Fashion accessories|     49.92|       2|  4.992| 104.832|03-06-2019|  0.0243161094224924|\n",
      "|152-03-4217|Mandalay|Female|  Home and lifestyle|     11.28|       9|  5.076| 106.596| 3/17/2019| 0.02735562310030395|\n",
      "|529-56-3974|Mandalay|  Male|Electronic access...|     25.51|       4|  5.102| 107.142|03-09-2019|0.030395136778115502|\n",
      "|641-43-2399|Mandalay|  Male|  Home and lifestyle|     25.55|       4|   5.11|  107.31| 1/26/2019| 0.03343465045592705|\n",
      "|821-14-9046|Mandalay|Female| Fashion accessories|     17.48|       6|  5.244| 110.124| 1/18/2019|  0.0364741641337386|\n",
      "|378-24-2715|Mandalay|  Male|  Home and lifestyle|     53.44|       2|  5.344| 112.224| 1/20/2019| 0.03951367781155015|\n",
      "|291-32-1427|Mandalay|  Male| Fashion accessories|     21.94|       5|  5.485| 115.185|03-05-2019|  0.0425531914893617|\n",
      "+-----------+--------+------+--------------------+----------+--------+-------+--------+----------+--------------------+\n",
      "only showing top 20 rows\n",
      "\n"
     ]
    }
   ],
   "source": [
    "\"\"\" percent_rank \"\"\"\n",
    "from pyspark.sql.functions import percent_rank\n",
    "df.withColumn(\"percent_rank\",percent_rank().over(windowSpec)).show()"
   ]
  },
  {
   "cell_type": "markdown",
   "id": "33c52d16",
   "metadata": {},
   "source": [
    "# ntile Window Function"
   ]
  },
  {
   "cell_type": "raw",
   "id": "26f60b08",
   "metadata": {},
   "source": [
    "ntile() window function returns the relative rank of result rows within a window partition.\n",
    "In below example we have used 2 as an argument to ntile hence it returns ranking between 2 values (1 and 2)"
   ]
  },
  {
   "cell_type": "code",
   "execution_count": 8,
   "id": "d85e33ca",
   "metadata": {},
   "outputs": [
    {
     "name": "stdout",
     "output_type": "stream",
     "text": [
      "+-----------+--------+------+--------------------+----------+--------+-------+--------+----------+-----+\n",
      "| Invoice ID|    City|Gender|        Product line|Unit price|Quantity| Tax 5%|   Total|      Date|ntile|\n",
      "+-----------+--------+------+--------------------+----------+--------+-------+--------+----------+-----+\n",
      "|699-14-3026|    null|  Male|                null|     85.39|       7|29.8865|    null| 3/25/2019|    1|\n",
      "|365-64-0515|    null|  null|Electronic access...|     46.95|       5|   null|    null|02-12-2019|    1|\n",
      "|692-92-5582|    null|Female|                null|      null|       3|  8.226| 172.746| 2/20/2019|    1|\n",
      "|351-62-0822|    null|Female|                null|     14.48|       4|  2.896|  60.816|02-06-2019|    2|\n",
      "|373-73-7910|    null|  Male|                null|     86.31|       7|30.2085|634.3785|02-08-2019|    2|\n",
      "|268-03-6164|Mandalay|  Male|   Health and beauty|     96.11|       1| 4.8055|100.9155| 1/25/2019|    1|\n",
      "|761-49-0439|Mandalay|Female|Electronic access...|      12.1|       8|   4.84|  101.64| 1/19/2019|    1|\n",
      "|176-64-7711|Mandalay|  Male|  Food and beverages|     32.32|       3|  4.848| 101.808| 3/27/2019|    1|\n",
      "|744-16-7898|Mandalay|Female|  Home and lifestyle|     97.37|      10| 48.685|1022.385| 1/15/2019|    1|\n",
      "|303-96-2227|Mandalay|Female|  Home and lifestyle|     97.38|      10|  48.69| 1022.49|03-02-2019|    1|\n",
      "|401-18-8016|Mandalay|Female|   Sports and travel|     98.13|       1| 4.9065|103.0365| 1/21/2019|    1|\n",
      "|241-96-5076|Mandalay|Female|  Home and lifestyle|      49.1|       2|   4.91|  103.11|01-08-2019|    1|\n",
      "|181-82-6255|Mandalay|Female|  Home and lifestyle|     16.37|       6|  4.911| 103.131|02-08-2019|    1|\n",
      "|883-69-1285|Mandalay|  Male| Fashion accessories|     49.92|       2|  4.992| 104.832|03-06-2019|    1|\n",
      "|152-03-4217|Mandalay|Female|  Home and lifestyle|     11.28|       9|  5.076| 106.596| 3/17/2019|    1|\n",
      "|529-56-3974|Mandalay|  Male|Electronic access...|     25.51|       4|  5.102| 107.142|03-09-2019|    1|\n",
      "|641-43-2399|Mandalay|  Male|  Home and lifestyle|     25.55|       4|   5.11|  107.31| 1/26/2019|    1|\n",
      "|821-14-9046|Mandalay|Female| Fashion accessories|     17.48|       6|  5.244| 110.124| 1/18/2019|    1|\n",
      "|378-24-2715|Mandalay|  Male|  Home and lifestyle|     53.44|       2|  5.344| 112.224| 1/20/2019|    1|\n",
      "|291-32-1427|Mandalay|  Male| Fashion accessories|     21.94|       5|  5.485| 115.185|03-05-2019|    1|\n",
      "+-----------+--------+------+--------------------+----------+--------+-------+--------+----------+-----+\n",
      "only showing top 20 rows\n",
      "\n"
     ]
    }
   ],
   "source": [
    "\"\"\"ntile\"\"\"\n",
    "from pyspark.sql.functions import ntile\n",
    "df.withColumn(\"ntile\",ntile(2).over(windowSpec)) \\\n",
    "    .show()"
   ]
  },
  {
   "cell_type": "code",
   "execution_count": null,
   "id": "c5d104c3",
   "metadata": {},
   "outputs": [],
   "source": []
  },
  {
   "cell_type": "code",
   "execution_count": null,
   "id": "cb16a25f",
   "metadata": {},
   "outputs": [],
   "source": []
  },
  {
   "cell_type": "code",
   "execution_count": null,
   "id": "3eb7a232",
   "metadata": {},
   "outputs": [],
   "source": []
  },
  {
   "cell_type": "code",
   "execution_count": null,
   "id": "479c1251",
   "metadata": {},
   "outputs": [],
   "source": []
  },
  {
   "cell_type": "code",
   "execution_count": null,
   "id": "a6c1b560",
   "metadata": {},
   "outputs": [],
   "source": []
  },
  {
   "cell_type": "code",
   "execution_count": null,
   "id": "3a7c7478",
   "metadata": {},
   "outputs": [],
   "source": []
  },
  {
   "cell_type": "code",
   "execution_count": null,
   "id": "35709a1f",
   "metadata": {},
   "outputs": [],
   "source": []
  },
  {
   "cell_type": "code",
   "execution_count": null,
   "id": "154b8be6",
   "metadata": {},
   "outputs": [],
   "source": []
  }
 ],
 "metadata": {
  "kernelspec": {
   "display_name": "Python 3 (ipykernel)",
   "language": "python",
   "name": "python3"
  },
  "language_info": {
   "codemirror_mode": {
    "name": "ipython",
    "version": 3
   },
   "file_extension": ".py",
   "mimetype": "text/x-python",
   "name": "python",
   "nbconvert_exporter": "python",
   "pygments_lexer": "ipython3",
   "version": "3.9.12"
  }
 },
 "nbformat": 4,
 "nbformat_minor": 5
}
