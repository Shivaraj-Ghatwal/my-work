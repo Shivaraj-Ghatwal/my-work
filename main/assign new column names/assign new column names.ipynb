{
 "cells": [
  {
   "cell_type": "code",
   "execution_count": 88,
   "id": "5f72d1f5",
   "metadata": {},
   "outputs": [
    {
     "name": "stdout",
     "output_type": "stream",
     "text": [
      "+-----------+---------+------+----------------------+----------+--------+-------+--------+----------+\n",
      "|_c0        |_c1      |_c2   |_c3                   |_c4       |_c5     |_c6    |_c7     |_c8       |\n",
      "+-----------+---------+------+----------------------+----------+--------+-------+--------+----------+\n",
      "|Invoice ID |City     |Gender|Product line          |Unit price|Quantity|Tax 5% |Total   |Date      |\n",
      "|750-67-8428|Yangon   |Female|Health and beauty     |74.69     |7       |26.1415|548.9715|01-05-2019|\n",
      "|226-31-3081|Naypyitaw|Female|Electronic accessories|15.28     |5       |3.82   |80.22   |03-08-2019|\n",
      "|631-41-3108|Yangon   |Male  |Home and lifestyle    |46.33     |7       |16.2155|340.5255|03-03-2019|\n",
      "|123-19-1176|Yangon   |Male  |Health and beauty     |58.22     |8       |23.288 |489.048 |1/27/2019 |\n",
      "|373-73-7910|Yangon   |Male  |Sports and travel     |86.31     |7       |30.2085|634.3785|02-08-2019|\n",
      "|699-14-3026|Naypyitaw|Male  |Electronic accessories|85.39     |7       |29.8865|627.6165|3/25/2019 |\n",
      "|355-53-5943|Yangon   |Female|Electronic accessories|68.84     |6       |20.652 |433.692 |2/25/2019 |\n",
      "|315-22-5665|Naypyitaw|Female|Home and lifestyle    |73.56     |10      |36.78  |772.38  |2/24/2019 |\n",
      "|665-32-9167|Yangon   |Female|Health and beauty     |36.26     |2       |3.626  |76.146  |01-10-2019|\n",
      "+-----------+---------+------+----------------------+----------+--------+-------+--------+----------+\n",
      "only showing top 10 rows\n",
      "\n"
     ]
    }
   ],
   "source": [
    "from pyspark.sql import SparkSession\n",
    "spark=SparkSession.builder.appName(\"test\").getOrCreate()\n",
    "df=spark.read.csv(r\"C:\\Users\\Shivaraj\\supermarket_sales1.csv\")\n",
    "df.show(10,False)"
   ]
  },
  {
   "cell_type": "code",
   "execution_count": 89,
   "id": "fe9eb6c8",
   "metadata": {},
   "outputs": [
    {
     "data": {
      "text/plain": [
       "['_c0', '_c1', '_c2', '_c3', '_c4', '_c5', '_c6', '_c7', '_c8']"
      ]
     },
     "execution_count": 89,
     "metadata": {},
     "output_type": "execute_result"
    }
   ],
   "source": [
    "cols=df.columns\n",
    "cols"
   ]
  },
  {
   "cell_type": "markdown",
   "id": "05914a2f",
   "metadata": {},
   "source": [
    "# modifing  column names "
   ]
  },
  {
   "cell_type": "code",
   "execution_count": 58,
   "id": "373f01b9",
   "metadata": {},
   "outputs": [],
   "source": [
    "from pyspark.sql.functions import *\n",
    "from functools import *\n",
    "df1=reduce(lambda new_df, i : new_df.withColumnRenamed(i, i.replace(\" \",\"_\")),cols,df)"
   ]
  },
  {
   "cell_type": "code",
   "execution_count": 59,
   "id": "4a05e979",
   "metadata": {},
   "outputs": [
    {
     "name": "stdout",
     "output_type": "stream",
     "text": [
      "+-----------+---------+------+--------------------+----------+--------+-------+--------+----------+\n",
      "| Invoice_ID|     City|Gender|        Product_line|Unit_price|Quantity| Tax_5%|   Total|      Date|\n",
      "+-----------+---------+------+--------------------+----------+--------+-------+--------+----------+\n",
      "|750-67-8428|   Yangon|Female|   Health and beauty|     74.69|       7|26.1415|548.9715|01-05-2019|\n",
      "|226-31-3081|Naypyitaw|Female|Electronic access...|     15.28|       5|   3.82|   80.22|03-08-2019|\n",
      "|631-41-3108|   Yangon|  Male|  Home and lifestyle|     46.33|       7|16.2155|340.5255|03-03-2019|\n",
      "|123-19-1176|   Yangon|  Male|   Health and beauty|     58.22|       8| 23.288| 489.048| 1/27/2019|\n",
      "|373-73-7910|   Yangon|  Male|   Sports and travel|     86.31|       7|30.2085|634.3785|02-08-2019|\n",
      "|699-14-3026|Naypyitaw|  Male|Electronic access...|     85.39|       7|29.8865|627.6165| 3/25/2019|\n",
      "|355-53-5943|   Yangon|Female|Electronic access...|     68.84|       6| 20.652| 433.692| 2/25/2019|\n",
      "|315-22-5665|Naypyitaw|Female|  Home and lifestyle|     73.56|      10|  36.78|  772.38| 2/24/2019|\n",
      "|665-32-9167|   Yangon|Female|   Health and beauty|     36.26|       2|  3.626|  76.146|01-10-2019|\n",
      "|692-92-5582| Mandalay|Female|  Food and beverages|     54.84|       3|  8.226| 172.746| 2/20/2019|\n",
      "|351-62-0822| Mandalay|Female| Fashion accessories|     14.48|       4|  2.896|  60.816|02-06-2019|\n",
      "|529-56-3974| Mandalay|  Male|Electronic access...|     25.51|       4|  5.102| 107.142|03-09-2019|\n",
      "|365-64-0515|   Yangon|Female|Electronic access...|     46.95|       5|11.7375|246.4875|02-12-2019|\n",
      "|252-56-2699|   Yangon|  Male|  Food and beverages|     43.19|      10| 21.595| 453.495|02-07-2019|\n",
      "|829-34-3910|   Yangon|Female|   Health and beauty|     71.38|      10|  35.69|  749.49| 3/29/2019|\n",
      "|299-46-1805| Mandalay|Female|   Sports and travel|     93.72|       6| 28.116| 590.436| 1/15/2019|\n",
      "|656-95-9349|   Yangon|Female|   Health and beauty|     68.93|       7|24.1255|506.6355|03-11-2019|\n",
      "|765-26-6951|   Yangon|  Male|   Sports and travel|     72.61|       6| 21.783| 457.443|01-01-2019|\n",
      "|329-62-1586|   Yangon|  Male|  Food and beverages|     54.67|       3| 8.2005|172.2105| 1/21/2019|\n",
      "|319-50-3348| Mandalay|Female|  Home and lifestyle|      40.3|       2|   4.03|   84.63|03-11-2019|\n",
      "+-----------+---------+------+--------------------+----------+--------+-------+--------+----------+\n",
      "only showing top 20 rows\n",
      "\n"
     ]
    }
   ],
   "source": [
    "df1.show()"
   ]
  },
  {
   "cell_type": "markdown",
   "id": "1876ee7f",
   "metadata": {},
   "source": [
    "# Completely changing colums names"
   ]
  },
  {
   "cell_type": "code",
   "execution_count": 90,
   "id": "84a5fda4",
   "metadata": {},
   "outputs": [],
   "source": [
    "from pyspark.sql.functions import *\n",
    "from functools import *\n",
    "colms=df.columns\n",
    "\n",
    "new_cols=[\"Invoice\",\"City_Name\",\"Genders\",\"Products\",\"Unit_price\",\"Quantity\",\"5%_Tax\",\"Total_amount\",\"Date\"]\n",
    "\n",
    "new_df1=reduce(lambda df2, i: df2.withColumnRenamed(colms[i], new_cols[i]), range(len(cols)), df)"
   ]
  },
  {
   "cell_type": "code",
   "execution_count": 91,
   "id": "0c5151da",
   "metadata": {},
   "outputs": [
    {
     "name": "stdout",
     "output_type": "stream",
     "text": [
      "+-----------+---------+-------+--------------------+----------+--------+-------+------------+----------+\n",
      "|    Invoice|City_Name|Genders|            Products|Unit_price|Quantity| 5%_Tax|Total_amount|      Date|\n",
      "+-----------+---------+-------+--------------------+----------+--------+-------+------------+----------+\n",
      "| Invoice ID|     City| Gender|        Product line|Unit price|Quantity| Tax 5%|       Total|      Date|\n",
      "|750-67-8428|   Yangon| Female|   Health and beauty|     74.69|       7|26.1415|    548.9715|01-05-2019|\n",
      "|226-31-3081|Naypyitaw| Female|Electronic access...|     15.28|       5|   3.82|       80.22|03-08-2019|\n",
      "|631-41-3108|   Yangon|   Male|  Home and lifestyle|     46.33|       7|16.2155|    340.5255|03-03-2019|\n",
      "|123-19-1176|   Yangon|   Male|   Health and beauty|     58.22|       8| 23.288|     489.048| 1/27/2019|\n",
      "|373-73-7910|   Yangon|   Male|   Sports and travel|     86.31|       7|30.2085|    634.3785|02-08-2019|\n",
      "|699-14-3026|Naypyitaw|   Male|Electronic access...|     85.39|       7|29.8865|    627.6165| 3/25/2019|\n",
      "|355-53-5943|   Yangon| Female|Electronic access...|     68.84|       6| 20.652|     433.692| 2/25/2019|\n",
      "|315-22-5665|Naypyitaw| Female|  Home and lifestyle|     73.56|      10|  36.78|      772.38| 2/24/2019|\n",
      "|665-32-9167|   Yangon| Female|   Health and beauty|     36.26|       2|  3.626|      76.146|01-10-2019|\n",
      "|692-92-5582| Mandalay| Female|  Food and beverages|     54.84|       3|  8.226|     172.746| 2/20/2019|\n",
      "|351-62-0822| Mandalay| Female| Fashion accessories|     14.48|       4|  2.896|      60.816|02-06-2019|\n",
      "|529-56-3974| Mandalay|   Male|Electronic access...|     25.51|       4|  5.102|     107.142|03-09-2019|\n",
      "|365-64-0515|   Yangon| Female|Electronic access...|     46.95|       5|11.7375|    246.4875|02-12-2019|\n",
      "|252-56-2699|   Yangon|   Male|  Food and beverages|     43.19|      10| 21.595|     453.495|02-07-2019|\n",
      "|829-34-3910|   Yangon| Female|   Health and beauty|     71.38|      10|  35.69|      749.49| 3/29/2019|\n",
      "|299-46-1805| Mandalay| Female|   Sports and travel|     93.72|       6| 28.116|     590.436| 1/15/2019|\n",
      "|656-95-9349|   Yangon| Female|   Health and beauty|     68.93|       7|24.1255|    506.6355|03-11-2019|\n",
      "|765-26-6951|   Yangon|   Male|   Sports and travel|     72.61|       6| 21.783|     457.443|01-01-2019|\n",
      "|329-62-1586|   Yangon|   Male|  Food and beverages|     54.67|       3| 8.2005|    172.2105| 1/21/2019|\n",
      "+-----------+---------+-------+--------------------+----------+--------+-------+------------+----------+\n",
      "only showing top 20 rows\n",
      "\n"
     ]
    }
   ],
   "source": [
    "new_df1.show()"
   ]
  },
  {
   "cell_type": "code",
   "execution_count": null,
   "id": "f25e398c",
   "metadata": {},
   "outputs": [],
   "source": []
  },
  {
   "cell_type": "code",
   "execution_count": null,
   "id": "4e2f61cd",
   "metadata": {},
   "outputs": [],
   "source": []
  },
  {
   "cell_type": "code",
   "execution_count": null,
   "id": "8912557d",
   "metadata": {},
   "outputs": [],
   "source": []
  },
  {
   "cell_type": "code",
   "execution_count": null,
   "id": "1a7d88c6",
   "metadata": {},
   "outputs": [],
   "source": []
  },
  {
   "cell_type": "code",
   "execution_count": null,
   "id": "a07d9ae9",
   "metadata": {},
   "outputs": [],
   "source": []
  },
  {
   "cell_type": "code",
   "execution_count": null,
   "id": "85e72cec",
   "metadata": {},
   "outputs": [],
   "source": []
  },
  {
   "cell_type": "code",
   "execution_count": null,
   "id": "9e7db093",
   "metadata": {},
   "outputs": [],
   "source": []
  },
  {
   "cell_type": "code",
   "execution_count": null,
   "id": "ddea606b",
   "metadata": {},
   "outputs": [],
   "source": []
  },
  {
   "cell_type": "code",
   "execution_count": null,
   "id": "62d30d91",
   "metadata": {},
   "outputs": [],
   "source": []
  },
  {
   "cell_type": "code",
   "execution_count": null,
   "id": "cb62a458",
   "metadata": {},
   "outputs": [],
   "source": []
  },
  {
   "cell_type": "code",
   "execution_count": null,
   "id": "1b00b194",
   "metadata": {},
   "outputs": [],
   "source": []
  },
  {
   "cell_type": "code",
   "execution_count": null,
   "id": "898038e3",
   "metadata": {},
   "outputs": [],
   "source": []
  },
  {
   "cell_type": "code",
   "execution_count": null,
   "id": "4b6bd49d",
   "metadata": {},
   "outputs": [],
   "source": []
  },
  {
   "cell_type": "code",
   "execution_count": null,
   "id": "04f6dd5d",
   "metadata": {},
   "outputs": [],
   "source": []
  }
 ],
 "metadata": {
  "kernelspec": {
   "display_name": "Python 3 (ipykernel)",
   "language": "python",
   "name": "python3"
  },
  "language_info": {
   "codemirror_mode": {
    "name": "ipython",
    "version": 3
   },
   "file_extension": ".py",
   "mimetype": "text/x-python",
   "name": "python",
   "nbconvert_exporter": "python",
   "pygments_lexer": "ipython3",
   "version": "3.9.12"
  }
 },
 "nbformat": 4,
 "nbformat_minor": 5
}
