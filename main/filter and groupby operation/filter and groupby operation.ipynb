{
 "cells": [
  {
   "cell_type": "code",
   "execution_count": 1,
   "id": "2b13fac0",
   "metadata": {},
   "outputs": [],
   "source": [
    "import findspark\n",
    "findspark.init()\n",
    "\n",
    "from pyspark.sql import SparkSession\n",
    "from pyspark import SparkContext \n",
    "spark= SparkSession.builder.appName(\"test\").getOrCreate()"
   ]
  },
  {
   "cell_type": "code",
   "execution_count": 2,
   "id": "14de59a6",
   "metadata": {},
   "outputs": [],
   "source": [
    "df=spark.read.format(\"csv\").load(\"C:/Users/Shivaraj/pyspark work/supermarket_sales1.csv\",header=True,inferSchema=True)"
   ]
  },
  {
   "cell_type": "code",
   "execution_count": 3,
   "id": "4b7730e8",
   "metadata": {},
   "outputs": [
    {
     "name": "stdout",
     "output_type": "stream",
     "text": [
      "root\n",
      " |-- Invoice ID: string (nullable = true)\n",
      " |-- City: string (nullable = true)\n",
      " |-- Gender: string (nullable = true)\n",
      " |-- Product line: string (nullable = true)\n",
      " |-- Unit price: double (nullable = true)\n",
      " |-- Quantity: integer (nullable = true)\n",
      " |-- Tax 5%: double (nullable = true)\n",
      " |-- Total: double (nullable = true)\n",
      " |-- Date: string (nullable = true)\n",
      "\n"
     ]
    }
   ],
   "source": [
    "df.printSchema()"
   ]
  },
  {
   "cell_type": "code",
   "execution_count": 4,
   "id": "49aad1ff",
   "metadata": {},
   "outputs": [
    {
     "name": "stdout",
     "output_type": "stream",
     "text": [
      "+-----------+---------+------+----------------------+----------+--------+-------+--------+----------+\n",
      "|Invoice ID |City     |Gender|Product line          |Unit price|Quantity|Tax 5% |Total   |Date      |\n",
      "+-----------+---------+------+----------------------+----------+--------+-------+--------+----------+\n",
      "|750-67-8428|Yangon   |null  |Health and beauty     |74.69     |null    |26.1415|548.9715|01-05-2019|\n",
      "|226-31-3081|Naypyitaw|Female|Electronic accessories|15.28     |5       |3.82   |80.22   |03-08-2019|\n",
      "|631-41-3108|Yangon   |Male  |Home and lifestyle    |46.33     |7       |16.2155|340.5255|03-03-2019|\n",
      "|123-19-1176|Yangon   |Male  |Health and beauty     |58.22     |8       |23.288 |489.048 |1/27/2019 |\n",
      "|373-73-7910|null     |Male  |null                  |86.31     |7       |30.2085|634.3785|02-08-2019|\n",
      "|699-14-3026|null     |Male  |null                  |85.39     |7       |29.8865|null    |3/25/2019 |\n",
      "|355-53-5943|Yangon   |Female|null                  |68.84     |6       |20.652 |433.692 |2/25/2019 |\n",
      "|315-22-5665|Naypyitaw|Female|Home and lifestyle    |73.56     |null    |36.78  |772.38  |null      |\n",
      "|665-32-9167|Yangon   |Female|Health and beauty     |36.26     |null    |3.626  |76.146  |01-10-2019|\n",
      "|692-92-5582|null     |Female|null                  |null      |3       |8.226  |172.746 |2/20/2019 |\n",
      "+-----------+---------+------+----------------------+----------+--------+-------+--------+----------+\n",
      "only showing top 10 rows\n",
      "\n"
     ]
    }
   ],
   "source": [
    "df.show(10,False)"
   ]
  },
  {
   "cell_type": "code",
   "execution_count": 5,
   "id": "78fffbef",
   "metadata": {},
   "outputs": [],
   "source": [
    "df2= df.filter(df['Total'] >= 500)"
   ]
  },
  {
   "cell_type": "code",
   "execution_count": 6,
   "id": "5e1b9f96",
   "metadata": {},
   "outputs": [
    {
     "name": "stdout",
     "output_type": "stream",
     "text": [
      "+-----------+---------+------+-----------------+----------+--------+-------+--------+----------+\n",
      "| Invoice ID|     City|Gender|     Product line|Unit price|Quantity| Tax 5%|   Total|      Date|\n",
      "+-----------+---------+------+-----------------+----------+--------+-------+--------+----------+\n",
      "|750-67-8428|   Yangon|  null|Health and beauty|     74.69|    null|26.1415|548.9715|01-05-2019|\n",
      "|829-34-3910|   Yangon|Female|Health and beauty|     71.38|      10|  35.69|  749.49| 3/29/2019|\n",
      "|656-95-9349|   Yangon|Female|Health and beauty|     68.93|       7|24.1255|506.6355|03-11-2019|\n",
      "|370-41-7321| Mandalay|  Male|Health and beauty|     56.69|       9|25.5105|535.7205| 2/27/2019|\n",
      "|635-40-6220|   Yangon|  Male|Health and beauty|      89.6|       8|  35.84|  752.64|02-07-2019|\n",
      "|870-72-4431|Naypyitaw|Female|Health and beauty|     99.19|       6| 29.757| 624.897| 1/21/2019|\n",
      "|152-08-9985| Mandalay|  Male|Health and beauty|     64.36|       9| 28.962| 608.202|03-12-2019|\n",
      "|766-85-7061| Mandalay|  Male|Health and beauty|     87.87|      10| 43.935| 922.635| 3/29/2019|\n",
      "|483-71-1164|Naypyitaw|Female|Health and beauty|      81.3|       6|  24.39|  512.19|03-08-2019|\n",
      "|280-17-4359|Naypyitaw|  Male|Health and beauty|      90.5|      10|  45.25|  950.25| 1/25/2019|\n",
      "|338-65-2210|Naypyitaw|Female|Health and beauty|      68.6|      10|   34.3|   720.3|02-05-2019|\n",
      "|743-04-1105| Mandalay|  Male|Health and beauty|     97.22|       9| 43.749| 918.729| 3/30/2019|\n",
      "|836-82-5858| Mandalay|  Male|Health and beauty|     69.37|       9|31.2165|655.5465| 1/26/2019|\n",
      "|418-02-5978| Mandalay|Female|Health and beauty|     84.09|       9|37.8405|794.6505|02-11-2019|\n",
      "|157-13-5295|   Yangon|  Male|Health and beauty|     51.94|      10|  25.97|  545.37|03-09-2019|\n",
      "|477-24-6490| Mandalay|Female|Health and beauty|     99.71|       6| 29.913| 628.173| 2/26/2019|\n",
      "|667-92-0055|   Yangon|  Male|Health and beauty|     99.83|       6| 29.949| 628.929|03-04-2019|\n",
      "|873-95-4984| Mandalay|Female|Health and beauty|      76.9|       7| 26.915| 565.215| 2/15/2019|\n",
      "|731-59-7531| Mandalay|  Male|Health and beauty|     72.57|       8| 29.028| 609.588| 3/30/2019|\n",
      "|210-57-1719| Mandalay|Female|Health and beauty|     58.24|       9| 26.208| 550.368|02-05-2019|\n",
      "+-----------+---------+------+-----------------+----------+--------+-------+--------+----------+\n",
      "only showing top 20 rows\n",
      "\n"
     ]
    }
   ],
   "source": [
    "df2= df.filter(\n",
    "    (df['Product line'] == 'Health and beauty') & \n",
    "    (df['Total']>=500))\n",
    "\n",
    "df2.show()"
   ]
  },
  {
   "cell_type": "code",
   "execution_count": 7,
   "id": "7a3d99f3",
   "metadata": {},
   "outputs": [
    {
     "name": "stdout",
     "output_type": "stream",
     "text": [
      "+-----------+---------+------+-----------------+----------+--------+-------+--------+----------+\n",
      "| Invoice ID|     City|Gender|     Product line|Unit price|Quantity| Tax 5%|   Total|      Date|\n",
      "+-----------+---------+------+-----------------+----------+--------+-------+--------+----------+\n",
      "|750-67-8428|   Yangon|  null|Health and beauty|     74.69|    null|26.1415|548.9715|01-05-2019|\n",
      "|123-19-1176|   Yangon|  Male|Health and beauty|     58.22|       8| 23.288| 489.048| 1/27/2019|\n",
      "|665-32-9167|   Yangon|Female|Health and beauty|     36.26|    null|  3.626|  76.146|01-10-2019|\n",
      "|829-34-3910|   Yangon|Female|Health and beauty|     71.38|      10|  35.69|  749.49| 3/29/2019|\n",
      "|656-95-9349|   Yangon|Female|Health and beauty|     68.93|       7|24.1255|506.6355|03-11-2019|\n",
      "|371-85-5789| Mandalay|  Male|Health and beauty|     87.98|       3| 13.197| 277.137|03-05-2019|\n",
      "|848-62-7243|   Yangon|  Male|Health and beauty|     24.89|       9|11.2005|235.2105| 3/15/2019|\n",
      "|595-11-5460|   Yangon|  Male|Health and beauty|     96.58|       2|  9.658| 202.818| 3/15/2019|\n",
      "|333-73-7901|Naypyitaw|Female|Health and beauty|     54.92|       8| 21.968| 461.328| 3/23/2019|\n",
      "|617-15-4209|Naypyitaw|  Male|Health and beauty|     15.37|       2|  1.537|  32.277| 3/16/2019|\n",
      "|370-41-7321| Mandalay|  Male|Health and beauty|     56.69|       9|25.5105|535.7205| 2/27/2019|\n",
      "|635-40-6220|   Yangon|  Male|Health and beauty|      89.6|       8|  35.84|  752.64|02-07-2019|\n",
      "|853-23-2453| Mandalay|  Male|Health and beauty|     75.74|       4| 15.148| 318.108| 2/14/2019|\n",
      "|877-22-3308|   Yangon|  Male|Health and beauty|     15.87|      10|  7.935| 166.635| 3/13/2019|\n",
      "|838-78-4295|Naypyitaw|Female|Health and beauty|     33.47|       2|  3.347|  70.287|02-10-2019|\n",
      "|382-03-4532|   Yangon|Female|Health and beauty|     18.33|       1| 0.9165| 19.2465|02-02-2019|\n",
      "|756-01-7507|Naypyitaw|Female|Health and beauty|     20.38|       5|  5.095| 106.995| 1/22/2019|\n",
      "|870-72-4431|Naypyitaw|Female|Health and beauty|     99.19|       6| 29.757| 624.897| 1/21/2019|\n",
      "|318-68-5053| Mandalay|Female|Health and beauty|     76.99|       6| 23.097| 485.037| 2/27/2019|\n",
      "|152-08-9985| Mandalay|  Male|Health and beauty|     64.36|       9| 28.962| 608.202|03-12-2019|\n",
      "+-----------+---------+------+-----------------+----------+--------+-------+--------+----------+\n",
      "only showing top 20 rows\n",
      "\n"
     ]
    }
   ],
   "source": [
    "# df.groupBy('Health and beauty').min('Total').show()\n",
    "\n",
    "df3= df.filter(\n",
    "    (df['Product line'] == 'Health and beauty'))\n",
    "df3.show()"
   ]
  },
  {
   "cell_type": "code",
   "execution_count": 8,
   "id": "e3df0da6",
   "metadata": {},
   "outputs": [
    {
     "data": {
      "text/plain": [
       "152"
      ]
     },
     "execution_count": 8,
     "metadata": {},
     "output_type": "execute_result"
    }
   ],
   "source": [
    "df3.count()"
   ]
  },
  {
   "cell_type": "code",
   "execution_count": 9,
   "id": "dae57178",
   "metadata": {},
   "outputs": [
    {
     "name": "stdout",
     "output_type": "stream",
     "text": [
      "+--------+---------------+-------------+-----------+----------+\n",
      "|   Total|avg(Unit price)|avg(Quantity)|avg(Tax 5%)|avg(Total)|\n",
      "+--------+---------------+-------------+-----------+----------+\n",
      "|  76.146|          36.26|         null|      3.626|    76.146|\n",
      "| 697.935|          66.47|         10.0|     33.235|   697.935|\n",
      "|  545.37|          51.94|         10.0|      25.97|    545.37|\n",
      "|  75.474|          17.97|          4.0|      3.594|    75.474|\n",
      "| 633.108|          75.37|          8.0|     30.148|   633.108|\n",
      "| 628.173|          99.71|          6.0|     29.913|   628.173|\n",
      "| 166.635|          15.87|         10.0|      7.935|   166.635|\n",
      "| 145.971|          69.51|          2.0|      6.951|   145.971|\n",
      "|    90.3|          10.75|          8.0|        4.3|      90.3|\n",
      "| 91.4025|          17.41|          5.0|     4.3525|   91.4025|\n",
      "|548.9715|          74.69|         null|    26.1415|  548.9715|\n",
      "|223.0725|          30.35|          7.0|    10.6225|  223.0725|\n",
      "|110.0925|          20.97|          5.0|     5.2425|  110.0925|\n",
      "|  70.287|          33.47|          2.0|      3.347|    70.287|\n",
      "|  44.352|          21.12|          2.0|      2.112|    44.352|\n",
      "|390.7995|          53.17|          7.0|    18.6095|  390.7995|\n",
      "|411.3795|          55.97|          7.0|    19.5895|  411.3795|\n",
      "|   233.1|           55.5|          4.0|       11.1|     233.1|\n",
      "|   53.34|          10.16|          5.0|       2.54|     53.34|\n",
      "|  752.64|           89.6|          8.0|      35.84|    752.64|\n",
      "+--------+---------------+-------------+-----------+----------+\n",
      "only showing top 20 rows\n",
      "\n"
     ]
    }
   ],
   "source": [
    "(df3.groupBy('Total').avg()).show()"
   ]
  },
  {
   "cell_type": "code",
   "execution_count": 10,
   "id": "6d5be91c",
   "metadata": {},
   "outputs": [
    {
     "name": "stdout",
     "output_type": "stream",
     "text": [
      "+--------------------+------------------+\n",
      "|        Product line|           average|\n",
      "+--------------------+------------------+\n",
      "|  Home and lifestyle|      336.63695625|\n",
      "| Fashion accessories| 306.4693728813559|\n",
      "|                null|325.40812500000004|\n",
      "|   Health and beauty|323.64301973684223|\n",
      "|Electronic access...| 317.5433263473054|\n",
      "|  Food and beverages|323.53813872832376|\n",
      "|   Sports and travel| 330.2330181818182|\n",
      "+--------------------+------------------+\n",
      "\n"
     ]
    }
   ],
   "source": [
    "from pyspark.sql.functions import *\n",
    "\n",
    "df4=df.groupBy('Product line').avg('Total').select('Product line',col(\"avg(Total)\").alias(\"average\"))\n",
    "df4.show()"
   ]
  },
  {
   "cell_type": "code",
   "execution_count": 11,
   "id": "63afad5a",
   "metadata": {},
   "outputs": [
    {
     "name": "stdout",
     "output_type": "stream",
     "text": [
      "+--------------------+------------------+\n",
      "|        Product line|           average|\n",
      "+--------------------+------------------+\n",
      "|  Home and lifestyle|      336.63695625|\n",
      "|   Sports and travel| 330.2330181818182|\n",
      "|                null|325.40812500000004|\n",
      "|   Health and beauty|323.64301973684223|\n",
      "|  Food and beverages|323.53813872832376|\n",
      "|Electronic access...| 317.5433263473054|\n",
      "| Fashion accessories| 306.4693728813559|\n",
      "+--------------------+------------------+\n",
      "\n"
     ]
    }
   ],
   "source": [
    "df4.sort(col('average').desc()).show()\n"
   ]
  },
  {
   "cell_type": "code",
   "execution_count": 12,
   "id": "056fec6e",
   "metadata": {},
   "outputs": [
    {
     "name": "stdout",
     "output_type": "stream",
     "text": [
      "+-----------+---------+------+-----------------+----------+--------+-------+--------+----------+\n",
      "| Invoice ID|     City|Gender|     Product line|Unit price|Quantity| Tax 5%|   Total|      Date|\n",
      "+-----------+---------+------+-----------------+----------+--------+-------+--------+----------+\n",
      "|750-67-8428|   Yangon|  null|Health and beauty|     74.69|    null|26.1415|548.9715|01-05-2019|\n",
      "|829-34-3910|   Yangon|Female|Health and beauty|     71.38|      10|  35.69|  749.49| 3/29/2019|\n",
      "|656-95-9349|   Yangon|Female|Health and beauty|     68.93|       7|24.1255|506.6355|03-11-2019|\n",
      "|370-41-7321| Mandalay|  Male|Health and beauty|     56.69|       9|25.5105|535.7205| 2/27/2019|\n",
      "|635-40-6220|   Yangon|  Male|Health and beauty|      89.6|       8|  35.84|  752.64|02-07-2019|\n",
      "|870-72-4431|Naypyitaw|Female|Health and beauty|     99.19|       6| 29.757| 624.897| 1/21/2019|\n",
      "|152-08-9985| Mandalay|  Male|Health and beauty|     64.36|       9| 28.962| 608.202|03-12-2019|\n",
      "|766-85-7061| Mandalay|  Male|Health and beauty|     87.87|      10| 43.935| 922.635| 3/29/2019|\n",
      "|483-71-1164|Naypyitaw|Female|Health and beauty|      81.3|       6|  24.39|  512.19|03-08-2019|\n",
      "|280-17-4359|Naypyitaw|  Male|Health and beauty|      90.5|      10|  45.25|  950.25| 1/25/2019|\n",
      "|338-65-2210|Naypyitaw|Female|Health and beauty|      68.6|      10|   34.3|   720.3|02-05-2019|\n",
      "|743-04-1105| Mandalay|  Male|Health and beauty|     97.22|       9| 43.749| 918.729| 3/30/2019|\n",
      "|836-82-5858| Mandalay|  Male|Health and beauty|     69.37|       9|31.2165|655.5465| 1/26/2019|\n",
      "|418-02-5978| Mandalay|Female|Health and beauty|     84.09|       9|37.8405|794.6505|02-11-2019|\n",
      "|157-13-5295|   Yangon|  Male|Health and beauty|     51.94|      10|  25.97|  545.37|03-09-2019|\n",
      "|477-24-6490| Mandalay|Female|Health and beauty|     99.71|       6| 29.913| 628.173| 2/26/2019|\n",
      "|667-92-0055|   Yangon|  Male|Health and beauty|     99.83|       6| 29.949| 628.929|03-04-2019|\n",
      "|873-95-4984| Mandalay|Female|Health and beauty|      76.9|       7| 26.915| 565.215| 2/15/2019|\n",
      "|731-59-7531| Mandalay|  Male|Health and beauty|     72.57|       8| 29.028| 609.588| 3/30/2019|\n",
      "|210-57-1719| Mandalay|Female|Health and beauty|     58.24|       9| 26.208| 550.368|02-05-2019|\n",
      "+-----------+---------+------+-----------------+----------+--------+-------+--------+----------+\n",
      "only showing top 20 rows\n",
      "\n"
     ]
    }
   ],
   "source": [
    "df2.show()"
   ]
  },
  {
   "cell_type": "code",
   "execution_count": 13,
   "id": "94ebb8f4",
   "metadata": {},
   "outputs": [
    {
     "data": {
      "text/plain": [
       "1"
      ]
     },
     "execution_count": 13,
     "metadata": {},
     "output_type": "execute_result"
    }
   ],
   "source": [
    "df.rdd.getNumPartitions()"
   ]
  },
  {
   "cell_type": "code",
   "execution_count": 14,
   "id": "677eb260",
   "metadata": {},
   "outputs": [
    {
     "data": {
      "text/plain": [
       "pyspark.sql.dataframe.DataFrame"
      ]
     },
     "execution_count": 14,
     "metadata": {},
     "output_type": "execute_result"
    }
   ],
   "source": [
    "type(df2)"
   ]
  },
  {
   "cell_type": "code",
   "execution_count": 15,
   "id": "d3f898dd",
   "metadata": {},
   "outputs": [],
   "source": [
    "df.write.format(\"json\").save('C:/Users/shivaraj/outputnew3')"
   ]
  },
  {
   "cell_type": "code",
   "execution_count": null,
   "id": "a8ac32c5",
   "metadata": {},
   "outputs": [],
   "source": []
  },
  {
   "cell_type": "code",
   "execution_count": null,
   "id": "183be482",
   "metadata": {},
   "outputs": [],
   "source": []
  },
  {
   "cell_type": "code",
   "execution_count": null,
   "id": "67f88d12",
   "metadata": {},
   "outputs": [],
   "source": []
  },
  {
   "cell_type": "code",
   "execution_count": null,
   "id": "2371f83b",
   "metadata": {},
   "outputs": [],
   "source": []
  },
  {
   "cell_type": "code",
   "execution_count": null,
   "id": "04e17f39",
   "metadata": {},
   "outputs": [],
   "source": []
  },
  {
   "cell_type": "code",
   "execution_count": null,
   "id": "a037a4db",
   "metadata": {},
   "outputs": [],
   "source": []
  },
  {
   "cell_type": "code",
   "execution_count": null,
   "id": "077c0e2c",
   "metadata": {},
   "outputs": [],
   "source": []
  },
  {
   "cell_type": "code",
   "execution_count": null,
   "id": "01a82041",
   "metadata": {},
   "outputs": [],
   "source": []
  },
  {
   "cell_type": "code",
   "execution_count": null,
   "id": "119fc428",
   "metadata": {},
   "outputs": [],
   "source": []
  },
  {
   "cell_type": "code",
   "execution_count": null,
   "id": "75a3b870",
   "metadata": {},
   "outputs": [],
   "source": []
  }
 ],
 "metadata": {
  "kernelspec": {
   "display_name": "Python 3 (ipykernel)",
   "language": "python",
   "name": "python3"
  },
  "language_info": {
   "codemirror_mode": {
    "name": "ipython",
    "version": 3
   },
   "file_extension": ".py",
   "mimetype": "text/x-python",
   "name": "python",
   "nbconvert_exporter": "python",
   "pygments_lexer": "ipython3",
   "version": "3.9.12"
  }
 },
 "nbformat": 4,
 "nbformat_minor": 5
}
